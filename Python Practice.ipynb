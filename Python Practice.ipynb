{
 "cells": [
  {
   "cell_type": "markdown",
   "metadata": {},
   "source": [
    "# Strings & Printing"
   ]
  },
  {
   "cell_type": "code",
   "execution_count": 8,
   "metadata": {},
   "outputs": [
    {
     "name": "stdout",
     "output_type": "stream",
     "text": [
      "Hello Bobby\n",
      "Hello Lohith\n"
     ]
    }
   ],
   "source": [
    "print(\"Hello Bobby\\nHello Lohith\")"
   ]
  },
  {
   "cell_type": "code",
   "execution_count": 9,
   "metadata": {},
   "outputs": [
    {
     "name": "stdout",
     "output_type": "stream",
     "text": [
      "Hello Bobby\n",
      "Hello Lohith\n"
     ]
    }
   ],
   "source": [
    "print(\"\"\"Hello Bobby\n",
    "Hello Lohith\"\"\")"
   ]
  },
  {
   "cell_type": "code",
   "execution_count": 10,
   "metadata": {},
   "outputs": [
    {
     "data": {
      "text/plain": [
       "12"
      ]
     },
     "execution_count": 10,
     "metadata": {},
     "output_type": "execute_result"
    }
   ],
   "source": [
    "len(\"Hello Lohith\")"
   ]
  },
  {
   "cell_type": "code",
   "execution_count": 11,
   "metadata": {},
   "outputs": [
    {
     "data": {
      "text/plain": [
       "'H'"
      ]
     },
     "execution_count": 11,
     "metadata": {},
     "output_type": "execute_result"
    }
   ],
   "source": [
    "message=\"Hello Lohith\"\n",
    "message[0]"
   ]
  },
  {
   "cell_type": "code",
   "execution_count": 12,
   "metadata": {},
   "outputs": [
    {
     "data": {
      "text/plain": [
       "'Hello'"
      ]
     },
     "execution_count": 12,
     "metadata": {},
     "output_type": "execute_result"
    }
   ],
   "source": [
    "message.split()[0]"
   ]
  },
  {
   "cell_type": "code",
   "execution_count": 13,
   "metadata": {},
   "outputs": [
    {
     "data": {
      "text/plain": [
       "'hello lohith'"
      ]
     },
     "execution_count": 13,
     "metadata": {},
     "output_type": "execute_result"
    }
   ],
   "source": [
    "message.lower()"
   ]
  },
  {
   "cell_type": "code",
   "execution_count": 14,
   "metadata": {},
   "outputs": [
    {
     "data": {
      "text/plain": [
       "'HELLO LOHITH'"
      ]
     },
     "execution_count": 14,
     "metadata": {},
     "output_type": "execute_result"
    }
   ],
   "source": [
    "message.upper()"
   ]
  },
  {
   "cell_type": "code",
   "execution_count": 17,
   "metadata": {},
   "outputs": [
    {
     "data": {
      "text/plain": [
       "1"
      ]
     },
     "execution_count": 17,
     "metadata": {},
     "output_type": "execute_result"
    }
   ],
   "source": [
    "message.count(\"Lohith\")"
   ]
  },
  {
   "cell_type": "code",
   "execution_count": 21,
   "metadata": {},
   "outputs": [
    {
     "data": {
      "text/plain": [
       "2"
      ]
     },
     "execution_count": 21,
     "metadata": {},
     "output_type": "execute_result"
    }
   ],
   "source": [
    "message.count(\"h\")"
   ]
  },
  {
   "cell_type": "code",
   "execution_count": 24,
   "metadata": {},
   "outputs": [
    {
     "data": {
      "text/plain": [
       "6"
      ]
     },
     "execution_count": 24,
     "metadata": {},
     "output_type": "execute_result"
    }
   ],
   "source": [
    "message.find(\"Lohith\")"
   ]
  },
  {
   "cell_type": "code",
   "execution_count": 26,
   "metadata": {},
   "outputs": [
    {
     "data": {
      "text/plain": [
       "-1"
      ]
     },
     "execution_count": 26,
     "metadata": {},
     "output_type": "execute_result"
    }
   ],
   "source": [
    "message.find(\"Madhu\") ## Not present"
   ]
  },
  {
   "cell_type": "code",
   "execution_count": 27,
   "metadata": {},
   "outputs": [],
   "source": [
    "new_message=message.replace(\"Lohith\",\"Madhu\")"
   ]
  },
  {
   "cell_type": "code",
   "execution_count": 28,
   "metadata": {},
   "outputs": [
    {
     "data": {
      "text/plain": [
       "'Hello Madhu'"
      ]
     },
     "execution_count": 28,
     "metadata": {},
     "output_type": "execute_result"
    }
   ],
   "source": [
    "new_message"
   ]
  },
  {
   "cell_type": "code",
   "execution_count": 42,
   "metadata": {},
   "outputs": [
    {
     "name": "stdout",
     "output_type": "stream",
     "text": [
      "Hello Lohith you are welcome\n"
     ]
    }
   ],
   "source": [
    "first=\"Hello\"\n",
    "second=\"Lohith\"\n",
    "print(\"{} {} you are welcome\".format(first,second))"
   ]
  },
  {
   "cell_type": "code",
   "execution_count": 44,
   "metadata": {},
   "outputs": [
    {
     "data": {
      "text/plain": [
       "['__add__',\n",
       " '__class__',\n",
       " '__contains__',\n",
       " '__delattr__',\n",
       " '__dir__',\n",
       " '__doc__',\n",
       " '__eq__',\n",
       " '__format__',\n",
       " '__ge__',\n",
       " '__getattribute__',\n",
       " '__getitem__',\n",
       " '__getnewargs__',\n",
       " '__gt__',\n",
       " '__hash__',\n",
       " '__init__',\n",
       " '__init_subclass__',\n",
       " '__iter__',\n",
       " '__le__',\n",
       " '__len__',\n",
       " '__lt__',\n",
       " '__mod__',\n",
       " '__mul__',\n",
       " '__ne__',\n",
       " '__new__',\n",
       " '__reduce__',\n",
       " '__reduce_ex__',\n",
       " '__repr__',\n",
       " '__rmod__',\n",
       " '__rmul__',\n",
       " '__setattr__',\n",
       " '__sizeof__',\n",
       " '__str__',\n",
       " '__subclasshook__',\n",
       " 'capitalize',\n",
       " 'casefold',\n",
       " 'center',\n",
       " 'count',\n",
       " 'encode',\n",
       " 'endswith',\n",
       " 'expandtabs',\n",
       " 'find',\n",
       " 'format',\n",
       " 'format_map',\n",
       " 'index',\n",
       " 'isalnum',\n",
       " 'isalpha',\n",
       " 'isascii',\n",
       " 'isdecimal',\n",
       " 'isdigit',\n",
       " 'isidentifier',\n",
       " 'islower',\n",
       " 'isnumeric',\n",
       " 'isprintable',\n",
       " 'isspace',\n",
       " 'istitle',\n",
       " 'isupper',\n",
       " 'join',\n",
       " 'ljust',\n",
       " 'lower',\n",
       " 'lstrip',\n",
       " 'maketrans',\n",
       " 'partition',\n",
       " 'replace',\n",
       " 'rfind',\n",
       " 'rindex',\n",
       " 'rjust',\n",
       " 'rpartition',\n",
       " 'rsplit',\n",
       " 'rstrip',\n",
       " 'split',\n",
       " 'splitlines',\n",
       " 'startswith',\n",
       " 'strip',\n",
       " 'swapcase',\n",
       " 'title',\n",
       " 'translate',\n",
       " 'upper',\n",
       " 'zfill']"
      ]
     },
     "execution_count": 44,
     "metadata": {},
     "output_type": "execute_result"
    }
   ],
   "source": [
    "dir(first) ## List all the methods for this"
   ]
  },
  {
   "cell_type": "code",
   "execution_count": 46,
   "metadata": {},
   "outputs": [
    {
     "name": "stdout",
     "output_type": "stream",
     "text": [
      "Help on built-in function lower:\n",
      "\n",
      "lower() method of builtins.str instance\n",
      "    Return a copy of the string converted to lowercase.\n",
      "\n"
     ]
    }
   ],
   "source": [
    "help(first.lower)"
   ]
  },
  {
   "cell_type": "markdown",
   "metadata": {},
   "source": [
    "# Numbers"
   ]
  },
  {
   "cell_type": "code",
   "execution_count": 51,
   "metadata": {},
   "outputs": [
    {
     "data": {
      "text/plain": [
       "float"
      ]
     },
     "execution_count": 51,
     "metadata": {},
     "output_type": "execute_result"
    }
   ],
   "source": [
    "num=3.13\n",
    "type(num)"
   ]
  },
  {
   "cell_type": "code",
   "execution_count": 55,
   "metadata": {},
   "outputs": [
    {
     "data": {
      "text/plain": [
       "3.12"
      ]
     },
     "execution_count": 55,
     "metadata": {},
     "output_type": "execute_result"
    }
   ],
   "source": [
    "nnum=-3.12\n",
    "abs(nnum) # removes negative sign"
   ]
  },
  {
   "cell_type": "code",
   "execution_count": 53,
   "metadata": {},
   "outputs": [
    {
     "data": {
      "text/plain": [
       "3"
      ]
     },
     "execution_count": 53,
     "metadata": {},
     "output_type": "execute_result"
    }
   ],
   "source": [
    "round(num)"
   ]
  },
  {
   "cell_type": "code",
   "execution_count": 57,
   "metadata": {},
   "outputs": [
    {
     "data": {
      "text/plain": [
       "3.13"
      ]
     },
     "execution_count": 57,
     "metadata": {},
     "output_type": "execute_result"
    }
   ],
   "source": [
    "round(num,2)"
   ]
  },
  {
   "cell_type": "code",
   "execution_count": 61,
   "metadata": {},
   "outputs": [
    {
     "data": {
      "text/plain": [
       "300"
      ]
     },
     "execution_count": 61,
     "metadata": {},
     "output_type": "execute_result"
    }
   ],
   "source": [
    "num1=\"100\"\n",
    "num2=\"200\"\n",
    "int(num1)+int(num2) ## if num are strings"
   ]
  },
  {
   "cell_type": "markdown",
   "metadata": {},
   "source": [
    "# List Tuples Sets"
   ]
  },
  {
   "cell_type": "code",
   "execution_count": 75,
   "metadata": {},
   "outputs": [
    {
     "data": {
      "text/plain": [
       "['Maths', 'Science', 'Arts', 'Commerce']"
      ]
     },
     "execution_count": 75,
     "metadata": {},
     "output_type": "execute_result"
    }
   ],
   "source": [
    "subjects=[\"Maths\",\"Science\",\"Arts\",\"Commerce\"]\n",
    "subjects"
   ]
  },
  {
   "cell_type": "code",
   "execution_count": 76,
   "metadata": {},
   "outputs": [
    {
     "data": {
      "text/plain": [
       "['Maths', 'Science', 'Arts', 'Commerce', 'Biology']"
      ]
     },
     "execution_count": 76,
     "metadata": {},
     "output_type": "execute_result"
    }
   ],
   "source": [
    "subjects.append(\"Biology\")\n",
    "subjects"
   ]
  },
  {
   "cell_type": "code",
   "execution_count": 77,
   "metadata": {},
   "outputs": [
    {
     "data": {
      "text/plain": [
       "['Maths', 'Science', 'Sports', 'Arts', 'Commerce', 'Biology']"
      ]
     },
     "execution_count": 77,
     "metadata": {},
     "output_type": "execute_result"
    }
   ],
   "source": [
    "subjects.insert(2,\"Sports\")\n",
    "subjects"
   ]
  },
  {
   "cell_type": "code",
   "execution_count": 78,
   "metadata": {},
   "outputs": [
    {
     "name": "stdout",
     "output_type": "stream",
     "text": [
      "['Maths', 'Science', 'Sports', 'Arts', 'Commerce', 'Biology', 'Artificial intelligence', 'Statistics']\n"
     ]
    }
   ],
   "source": [
    "subjects_2=[\"Artificial intelligence\",\"Statistics\"]\n",
    "subjects.extend(subjects_2)\n",
    "print(subjects)  ## used to add more elements from other list"
   ]
  },
  {
   "cell_type": "code",
   "execution_count": 79,
   "metadata": {},
   "outputs": [
    {
     "name": "stdout",
     "output_type": "stream",
     "text": [
      "['Maths', 'Science', 'Sports', 'Commerce', 'Biology', 'Artificial intelligence', 'Statistics']\n"
     ]
    }
   ],
   "source": [
    "subjects.remove(\"Arts\")\n",
    "print(subjects)"
   ]
  },
  {
   "cell_type": "code",
   "execution_count": 80,
   "metadata": {},
   "outputs": [
    {
     "name": "stdout",
     "output_type": "stream",
     "text": [
      "Sports\n"
     ]
    }
   ],
   "source": [
    "popped_items=subjects.pop(2)\n",
    "print(popped_items)"
   ]
  },
  {
   "cell_type": "code",
   "execution_count": 83,
   "metadata": {},
   "outputs": [
    {
     "name": "stdout",
     "output_type": "stream",
     "text": [
      "['Statistics', 'Artificial intelligence', 'Biology', 'Commerce', 'Science', 'Maths']\n"
     ]
    }
   ],
   "source": [
    "subjects.reverse()\n",
    "print(subjects)"
   ]
  },
  {
   "cell_type": "code",
   "execution_count": 85,
   "metadata": {},
   "outputs": [
    {
     "data": {
      "text/plain": [
       "[2, 4, 4, 6, 8, 10]"
      ]
     },
     "execution_count": 85,
     "metadata": {},
     "output_type": "execute_result"
    }
   ],
   "source": [
    "nums=[4,2,6,4,8,10]\n",
    "nums.sort()\n",
    "nums"
   ]
  },
  {
   "cell_type": "code",
   "execution_count": 86,
   "metadata": {},
   "outputs": [
    {
     "data": {
      "text/plain": [
       "[10, 8, 6, 4, 4, 2]"
      ]
     },
     "execution_count": 86,
     "metadata": {},
     "output_type": "execute_result"
    }
   ],
   "source": [
    "nums.sort(reverse=True)\n",
    "nums"
   ]
  },
  {
   "cell_type": "code",
   "execution_count": 87,
   "metadata": {},
   "outputs": [
    {
     "data": {
      "text/plain": [
       "[2, 4, 4, 6, 8, 10]"
      ]
     },
     "execution_count": 87,
     "metadata": {},
     "output_type": "execute_result"
    }
   ],
   "source": [
    "sorted_subjects=sorted(nums)\n",
    "sorted_subjects ## Sorted can only be stored in a variable and used for later purpose"
   ]
  },
  {
   "cell_type": "code",
   "execution_count": 88,
   "metadata": {},
   "outputs": [
    {
     "data": {
      "text/plain": [
       "2"
      ]
     },
     "execution_count": 88,
     "metadata": {},
     "output_type": "execute_result"
    }
   ],
   "source": [
    "subjects.index(\"Biology\")"
   ]
  },
  {
   "cell_type": "code",
   "execution_count": 89,
   "metadata": {},
   "outputs": [
    {
     "data": {
      "text/plain": [
       "True"
      ]
     },
     "execution_count": 89,
     "metadata": {},
     "output_type": "execute_result"
    }
   ],
   "source": [
    "\"Biology\" in subjects"
   ]
  },
  {
   "cell_type": "code",
   "execution_count": 91,
   "metadata": {},
   "outputs": [
    {
     "name": "stdout",
     "output_type": "stream",
     "text": [
      "Statistics\n",
      "Artificial intelligence\n",
      "Biology\n",
      "Commerce\n",
      "Science\n",
      "Maths\n"
     ]
    }
   ],
   "source": [
    "for subj in subjects:\n",
    "    print(subj)"
   ]
  },
  {
   "cell_type": "code",
   "execution_count": 94,
   "metadata": {},
   "outputs": [
    {
     "name": "stdout",
     "output_type": "stream",
     "text": [
      "0 Statistics\n",
      "1 Artificial intelligence\n",
      "2 Biology\n",
      "3 Commerce\n",
      "4 Science\n",
      "5 Maths\n"
     ]
    }
   ],
   "source": [
    "for index,subj in enumerate(subjects):\n",
    "    print(index,subj) ## enumerate will fetch the index"
   ]
  },
  {
   "cell_type": "code",
   "execution_count": 95,
   "metadata": {},
   "outputs": [
    {
     "name": "stdout",
     "output_type": "stream",
     "text": [
      "5 Statistics\n",
      "6 Artificial intelligence\n",
      "7 Biology\n",
      "8 Commerce\n",
      "9 Science\n",
      "10 Maths\n"
     ]
    }
   ],
   "source": [
    "for index,subj in enumerate(subjects,start=5):\n",
    "    print(index,subj)"
   ]
  },
  {
   "cell_type": "code",
   "execution_count": 96,
   "metadata": {},
   "outputs": [
    {
     "name": "stdout",
     "output_type": "stream",
     "text": [
      "Statistics-Artificial intelligence-Biology-Commerce-Science-Maths\n"
     ]
    }
   ],
   "source": [
    "subj_str=\"-\".join(subjects)\n",
    "print(subj_str)"
   ]
  },
  {
   "cell_type": "code",
   "execution_count": 98,
   "metadata": {},
   "outputs": [
    {
     "name": "stdout",
     "output_type": "stream",
     "text": [
      "['Statistics', 'Artificial intelligence', 'Biology', 'Commerce', 'Science', 'Maths']\n"
     ]
    }
   ],
   "source": [
    "subjects=subj_str.split(\"-\")\n",
    "print(subjects) ## String back to list"
   ]
  },
  {
   "cell_type": "code",
   "execution_count": 101,
   "metadata": {},
   "outputs": [
    {
     "data": {
      "text/plain": [
       "('Arts', 'Science', 'Maths')"
      ]
     },
     "execution_count": 101,
     "metadata": {},
     "output_type": "execute_result"
    }
   ],
   "source": [
    "subjects_tuple=(\"Arts\",\"Science\",\"Maths\")\n",
    "subjects_tuple ## Tuples are immutable"
   ]
  },
  {
   "cell_type": "code",
   "execution_count": 102,
   "metadata": {},
   "outputs": [
    {
     "name": "stdout",
     "output_type": "stream",
     "text": [
      "1 Arts\n",
      "2 Science\n",
      "3 Maths\n"
     ]
    }
   ],
   "source": [
    "for index,subj in enumerate(subjects_tuple,start=1):\n",
    "    print(index,subj)"
   ]
  },
  {
   "cell_type": "code",
   "execution_count": 104,
   "metadata": {},
   "outputs": [
    {
     "name": "stdout",
     "output_type": "stream",
     "text": [
      "{'Arts', 'Science', 'Maths'}\n"
     ]
    }
   ],
   "source": [
    "sets={\"Arts\",\"Arts\",\"Maths\",\"Maths\",\"Science\"}\n",
    "print(sets) ## remove duplicates"
   ]
  },
  {
   "cell_type": "markdown",
   "metadata": {},
   "source": [
    "### Count unique letters in a paragraph"
   ]
  },
  {
   "cell_type": "code",
   "execution_count": 105,
   "metadata": {},
   "outputs": [],
   "source": [
    "txt=\"All over the world, mortality rates are being scrutinised to determine the true impact of the coronavirus, which emerged in China late last year and is known to have infected more than 2.7 million people globally, with nearly 190,000 deaths.\""
   ]
  },
  {
   "cell_type": "code",
   "execution_count": 109,
   "metadata": {},
   "outputs": [],
   "source": [
    "txt_list=txt.split()"
   ]
  },
  {
   "cell_type": "code",
   "execution_count": 114,
   "metadata": {},
   "outputs": [
    {
     "data": {
      "text/plain": [
       "40"
      ]
     },
     "execution_count": 114,
     "metadata": {},
     "output_type": "execute_result"
    }
   ],
   "source": [
    "len(txt_list)"
   ]
  },
  {
   "cell_type": "code",
   "execution_count": 116,
   "metadata": {},
   "outputs": [
    {
     "data": {
      "text/plain": [
       "37"
      ]
     },
     "execution_count": 116,
     "metadata": {},
     "output_type": "execute_result"
    }
   ],
   "source": [
    "len(set(txt_list))"
   ]
  },
  {
   "cell_type": "markdown",
   "metadata": {},
   "source": [
    "### Check how many letters are repeating in two paragraphs"
   ]
  },
  {
   "cell_type": "code",
   "execution_count": 117,
   "metadata": {},
   "outputs": [],
   "source": [
    "txt_2=\"Parts of India have recorded dramatic falls in mortality rates after a nationwide lockdown was imposed to fight the new coronavirus, suggesting there has not been an undetected surge in virus-related deaths.\""
   ]
  },
  {
   "cell_type": "code",
   "execution_count": 124,
   "metadata": {},
   "outputs": [],
   "source": [
    "txt_set=set(txt_list)"
   ]
  },
  {
   "cell_type": "code",
   "execution_count": 125,
   "metadata": {},
   "outputs": [],
   "source": [
    "txt2_set=set(txt_2.split())"
   ]
  },
  {
   "cell_type": "code",
   "execution_count": 127,
   "metadata": {},
   "outputs": [
    {
     "name": "stdout",
     "output_type": "stream",
     "text": [
      "{'in', 'to', 'have', 'mortality', 'rates', 'of', 'coronavirus,', 'deaths.', 'the'}\n"
     ]
    }
   ],
   "source": [
    "print(txt_set.intersection(txt2_set))"
   ]
  },
  {
   "cell_type": "code",
   "execution_count": 129,
   "metadata": {},
   "outputs": [
    {
     "name": "stdout",
     "output_type": "stream",
     "text": [
      "{'world,', 'infected', 'scrutinised', 'nearly', 'known', 'late', 'year', 'and', 'are', 'people', 'which', 'with', 'being', 'true', 'last', 'determine', 'impact', 'All', 'over', 'than', 'million', '190,000', '2.7', 'is', 'globally,', 'emerged', 'more', 'China'}\n"
     ]
    }
   ],
   "source": [
    "print(txt_set.difference(txt2_set)) ## Which is is txt but not in txt2"
   ]
  },
  {
   "cell_type": "code",
   "execution_count": 130,
   "metadata": {},
   "outputs": [],
   "source": [
    "empty_set=set() "
   ]
  },
  {
   "cell_type": "markdown",
   "metadata": {},
   "source": [
    "# Dictionaries"
   ]
  },
  {
   "cell_type": "code",
   "execution_count": 131,
   "metadata": {},
   "outputs": [
    {
     "data": {
      "text/plain": [
       "{'Name': 'Bob', 'Age': 29, 'Courses': ['Maths', 'Science']}"
      ]
     },
     "execution_count": 131,
     "metadata": {},
     "output_type": "execute_result"
    }
   ],
   "source": [
    "student={\"Name\":\"Bob\",\"Age\":29,\"Courses\":[\"Maths\",\"Science\"]}\n",
    "student"
   ]
  },
  {
   "cell_type": "code",
   "execution_count": 132,
   "metadata": {},
   "outputs": [
    {
     "data": {
      "text/plain": [
       "'Bob'"
      ]
     },
     "execution_count": 132,
     "metadata": {},
     "output_type": "execute_result"
    }
   ],
   "source": [
    "student.get(\"Name\")"
   ]
  },
  {
   "cell_type": "code",
   "execution_count": 136,
   "metadata": {},
   "outputs": [
    {
     "name": "stdout",
     "output_type": "stream",
     "text": [
      "Not found\n"
     ]
    }
   ],
   "source": [
    "print(student.get(\"Phone\",\"Not found\"))## .get is better since it returns none"
   ]
  },
  {
   "cell_type": "code",
   "execution_count": 137,
   "metadata": {},
   "outputs": [],
   "source": [
    "student[\"Phone\"]=\"8989898989\""
   ]
  },
  {
   "cell_type": "code",
   "execution_count": 138,
   "metadata": {},
   "outputs": [
    {
     "data": {
      "text/plain": [
       "{'Name': 'Bob',\n",
       " 'Age': 29,\n",
       " 'Courses': ['Maths', 'Science'],\n",
       " 'Phone': '8989898989'}"
      ]
     },
     "execution_count": 138,
     "metadata": {},
     "output_type": "execute_result"
    }
   ],
   "source": [
    "student"
   ]
  },
  {
   "cell_type": "code",
   "execution_count": 140,
   "metadata": {},
   "outputs": [
    {
     "data": {
      "text/plain": [
       "{'Name': 'John',\n",
       " 'Age': 32,\n",
       " 'Courses': ['Maths', 'Science'],\n",
       " 'Phone': '8989898989'}"
      ]
     },
     "execution_count": 140,
     "metadata": {},
     "output_type": "execute_result"
    }
   ],
   "source": [
    "student.update({\"Name\":\"John\",\"Age\":32})\n",
    "student"
   ]
  },
  {
   "cell_type": "code",
   "execution_count": 141,
   "metadata": {},
   "outputs": [
    {
     "data": {
      "text/plain": [
       "{'Name': 'John', 'Courses': ['Maths', 'Science'], 'Phone': '8989898989'}"
      ]
     },
     "execution_count": 141,
     "metadata": {},
     "output_type": "execute_result"
    }
   ],
   "source": [
    "del student[\"Age\"]\n",
    "student"
   ]
  },
  {
   "cell_type": "code",
   "execution_count": 143,
   "metadata": {},
   "outputs": [
    {
     "name": "stdout",
     "output_type": "stream",
     "text": [
      "('Name', 'John')\n",
      "('Courses', ['Maths', 'Science'])\n",
      "('Phone', '8989898989')\n"
     ]
    }
   ],
   "source": [
    "for i in student.items():\n",
    "    print(i)"
   ]
  },
  {
   "cell_type": "code",
   "execution_count": 144,
   "metadata": {},
   "outputs": [
    {
     "name": "stdout",
     "output_type": "stream",
     "text": [
      "Name\n",
      "Courses\n",
      "Phone\n"
     ]
    }
   ],
   "source": [
    "for i in student.keys():\n",
    "    print(i)"
   ]
  },
  {
   "cell_type": "code",
   "execution_count": 145,
   "metadata": {},
   "outputs": [
    {
     "name": "stdout",
     "output_type": "stream",
     "text": [
      "John\n",
      "['Maths', 'Science']\n",
      "8989898989\n"
     ]
    }
   ],
   "source": [
    "for i in student.values():\n",
    "    print(i)"
   ]
  },
  {
   "cell_type": "code",
   "execution_count": 149,
   "metadata": {},
   "outputs": [
    {
     "name": "stdout",
     "output_type": "stream",
     "text": [
      "Name John\n",
      "Courses ['Maths', 'Science']\n",
      "Phone 8989898989\n"
     ]
    }
   ],
   "source": [
    "for i,j in student.items():\n",
    "    print(i,j)"
   ]
  },
  {
   "cell_type": "markdown",
   "metadata": {},
   "source": [
    "### Frequency of words"
   ]
  },
  {
   "cell_type": "code",
   "execution_count": 181,
   "metadata": {},
   "outputs": [
    {
     "name": "stdout",
     "output_type": "stream",
     "text": [
      "['All', 'over', 'the', 'world', 'mortality', 'rates', 'are', 'being', 'scrutinised', 'to', 'determine', 'the', 'true', 'impact', 'of', 'the', 'coronavirus', 'which', 'emerged', 'in', 'China', 'late', 'last', 'year', 'and', 'is', 'known', 'to', 'have', 'infected', 'more', 'than', '2.7', 'million', 'people', 'globally', 'with', 'nearly', '190', '000', 'deaths.']\n"
     ]
    }
   ],
   "source": [
    "txt=txt.replace(\",\",\" \")\n",
    "txt_list=txt.split()\n",
    "print(txt_list)"
   ]
  },
  {
   "cell_type": "code",
   "execution_count": 183,
   "metadata": {},
   "outputs": [
    {
     "name": "stdout",
     "output_type": "stream",
     "text": [
      "{'All': 1, 'over': 1, 'the': 3, 'world': 1, 'mortality': 1, 'rates': 1, 'are': 1, 'being': 1, 'scrutinised': 1, 'to': 2, 'determine': 1, 'true': 1, 'impact': 1, 'of': 1, 'coronavirus': 1, 'which': 1, 'emerged': 1, 'in': 1, 'China': 1, 'late': 1, 'last': 1, 'year': 1, 'and': 1, 'is': 1, 'known': 1, 'have': 1, 'infected': 1, 'more': 1, 'than': 1, '2.7': 1, 'million': 1, 'people': 1, 'globally': 1, 'with': 1, 'nearly': 1, '190': 1, '000': 1, 'deaths.': 1}\n"
     ]
    }
   ],
   "source": [
    "track={}\n",
    "cnt=1\n",
    "for i in txt_list:\n",
    "    if i not in track.keys():\n",
    "        track.update({i:cnt})\n",
    "    else:\n",
    "        track[i]+=1\n",
    "print(track)"
   ]
  },
  {
   "cell_type": "code",
   "execution_count": 173,
   "metadata": {},
   "outputs": [
    {
     "data": {
      "text/plain": [
       "{'Name': 'John', 'Courses': ['Maths', 'Science'], 'Phone': '8989898989'}"
      ]
     },
     "execution_count": 173,
     "metadata": {},
     "output_type": "execute_result"
    }
   ],
   "source": []
  },
  {
   "cell_type": "markdown",
   "metadata": {},
   "source": [
    "# Loops & Iterations"
   ]
  },
  {
   "cell_type": "code",
   "execution_count": 184,
   "metadata": {},
   "outputs": [],
   "source": [
    "a=[1,2,3,4,5]"
   ]
  },
  {
   "cell_type": "code",
   "execution_count": 188,
   "metadata": {},
   "outputs": [
    {
     "name": "stdout",
     "output_type": "stream",
     "text": [
      "1\n",
      "2\n",
      "Found 3\n"
     ]
    }
   ],
   "source": [
    "for i in a:\n",
    "    if i==3:\n",
    "        print(\"Found {}\".format(i))\n",
    "        break\n",
    "    print(i)"
   ]
  },
  {
   "cell_type": "code",
   "execution_count": 191,
   "metadata": {},
   "outputs": [
    {
     "name": "stdout",
     "output_type": "stream",
     "text": [
      "1\n",
      "2\n",
      "Found 3\n",
      "4\n",
      "5\n"
     ]
    }
   ],
   "source": [
    "for i in a:\n",
    "    if i==3:\n",
    "        print(\"Found {}\".format(i))\n",
    "        continue\n",
    "    print(i)"
   ]
  },
  {
   "cell_type": "code",
   "execution_count": 192,
   "metadata": {},
   "outputs": [
    {
     "name": "stdout",
     "output_type": "stream",
     "text": [
      "1 a\n",
      "1 b\n",
      "1 c\n",
      "2 a\n",
      "2 b\n",
      "2 c\n",
      "3 a\n",
      "3 b\n",
      "3 c\n",
      "4 a\n",
      "4 b\n",
      "4 c\n",
      "5 a\n",
      "5 b\n",
      "5 c\n"
     ]
    }
   ],
   "source": [
    "for i in a:\n",
    "    for j in \"abc\":\n",
    "        print(i,j)"
   ]
  },
  {
   "cell_type": "code",
   "execution_count": 193,
   "metadata": {},
   "outputs": [
    {
     "name": "stdout",
     "output_type": "stream",
     "text": [
      "5\n",
      "6\n",
      "7\n"
     ]
    }
   ],
   "source": [
    "for i in range(5,8):\n",
    "    print(i)"
   ]
  },
  {
   "cell_type": "markdown",
   "metadata": {},
   "source": [
    "# Functions"
   ]
  },
  {
   "cell_type": "markdown",
   "metadata": {},
   "source": [
    "### **kwargs will help to create a dictionary"
   ]
  },
  {
   "cell_type": "code",
   "execution_count": 195,
   "metadata": {},
   "outputs": [
    {
     "name": "stdout",
     "output_type": "stream",
     "text": [
      "['All', 'over', 'the', 'world', 'mortality', 'rates', 'are', 'being', 'scrutinised', 'to', 'determine', 'the', 'true', 'impact', 'of', 'the', 'coronavirus', 'which', 'emerged', 'in', 'China', 'late', 'last', 'year', 'and', 'is', 'known', 'to', 'have', 'infected', 'more', 'than', '2.7', 'million', 'people', 'globally', 'with', 'nearly', '190', '000', 'deaths.']\n"
     ]
    }
   ],
   "source": [
    "print(txt_list)"
   ]
  },
  {
   "cell_type": "code",
   "execution_count": 197,
   "metadata": {},
   "outputs": [],
   "source": [
    "def dict_func(**kwargs):\n",
    "    print(kwargs)"
   ]
  },
  {
   "cell_type": "code",
   "execution_count": 211,
   "metadata": {},
   "outputs": [
    {
     "name": "stdout",
     "output_type": "stream",
     "text": [
      "{'word': 'Parts', 'position': 0}\n",
      "{'word': 'of', 'position': 1}\n",
      "{'word': 'India', 'position': 2}\n",
      "{'word': 'have', 'position': 3}\n",
      "{'word': 'recorded', 'position': 4}\n",
      "{'word': 'dramatic', 'position': 5}\n",
      "{'word': 'falls', 'position': 6}\n",
      "{'word': 'in', 'position': 7}\n",
      "{'word': 'mortality', 'position': 8}\n",
      "{'word': 'rates', 'position': 9}\n",
      "{'word': 'after', 'position': 10}\n",
      "{'word': 'a', 'position': 11}\n",
      "{'word': 'nationwide', 'position': 12}\n",
      "{'word': 'lockdown', 'position': 13}\n",
      "{'word': 'was', 'position': 14}\n",
      "{'word': 'imposed', 'position': 15}\n",
      "{'word': 'to', 'position': 16}\n",
      "{'word': 'fight', 'position': 17}\n",
      "{'word': 'the', 'position': 18}\n",
      "{'word': 'new', 'position': 19}\n",
      "{'word': 'coronavirus,', 'position': 20}\n",
      "{'word': 'suggesting', 'position': 21}\n",
      "{'word': 'there', 'position': 22}\n",
      "{'word': 'has', 'position': 23}\n",
      "{'word': 'not', 'position': 24}\n",
      "{'word': 'been', 'position': 25}\n",
      "{'word': 'an', 'position': 26}\n",
      "{'word': 'undetected', 'position': 27}\n",
      "{'word': 'surge', 'position': 28}\n",
      "{'word': 'in', 'position': 29}\n",
      "{'word': 'virus-related', 'position': 30}\n",
      "{'word': 'deaths.', 'position': 31}\n"
     ]
    }
   ],
   "source": [
    "for index,words in enumerate(txt2_list):\n",
    "    trial=dict_func(word=words,position=index)"
   ]
  },
  {
   "cell_type": "markdown",
   "metadata": {},
   "source": [
    "### *args will help to create tuple"
   ]
  },
  {
   "cell_type": "code",
   "execution_count": 212,
   "metadata": {},
   "outputs": [],
   "source": [
    "def tup_func(*args):\n",
    "    print(args)"
   ]
  },
  {
   "cell_type": "code",
   "execution_count": 213,
   "metadata": {},
   "outputs": [
    {
     "name": "stdout",
     "output_type": "stream",
     "text": [
      "('All', 0)\n",
      "('over', 1)\n",
      "('the', 2)\n",
      "('world', 3)\n",
      "('mortality', 4)\n",
      "('rates', 5)\n",
      "('are', 6)\n",
      "('being', 7)\n",
      "('scrutinised', 8)\n",
      "('to', 9)\n",
      "('determine', 10)\n",
      "('the', 11)\n",
      "('true', 12)\n",
      "('impact', 13)\n",
      "('of', 14)\n",
      "('the', 15)\n",
      "('coronavirus', 16)\n",
      "('which', 17)\n",
      "('emerged', 18)\n",
      "('in', 19)\n",
      "('China', 20)\n",
      "('late', 21)\n",
      "('last', 22)\n",
      "('year', 23)\n",
      "('and', 24)\n",
      "('is', 25)\n",
      "('known', 26)\n",
      "('to', 27)\n",
      "('have', 28)\n",
      "('infected', 29)\n",
      "('more', 30)\n",
      "('than', 31)\n",
      "('2.7', 32)\n",
      "('million', 33)\n",
      "('people', 34)\n",
      "('globally', 35)\n",
      "('with', 36)\n",
      "('nearly', 37)\n",
      "('190', 38)\n",
      "('000', 39)\n",
      "('deaths.', 40)\n"
     ]
    }
   ],
   "source": [
    "for index,words in enumerate(txt_list):\n",
    "    tup_func(words,index)"
   ]
  },
  {
   "cell_type": "markdown",
   "metadata": {},
   "source": [
    "### Using * & ** while passing arguments"
   ]
  },
  {
   "cell_type": "code",
   "execution_count": 216,
   "metadata": {},
   "outputs": [],
   "source": [
    "def tup_dict(*args,**kwargs):\n",
    "    print(args)\n",
    "    print(kwargs)"
   ]
  },
  {
   "cell_type": "code",
   "execution_count": 217,
   "metadata": {},
   "outputs": [
    {
     "name": "stdout",
     "output_type": "stream",
     "text": [
      "('Arts', 'Science', 'Maths')\n",
      "{'Name': 'Bob', 'Age': 27}\n"
     ]
    }
   ],
   "source": [
    "courses=[\"Arts\",\"Science\",\"Maths\"]\n",
    "info={\"Name\":\"Bob\",\"Age\":27}\n",
    "tup_dict(*courses,**info)"
   ]
  },
  {
   "cell_type": "markdown",
   "metadata": {},
   "source": [
    "# Importing modules"
   ]
  },
  {
   "cell_type": "code",
   "execution_count": 225,
   "metadata": {},
   "outputs": [],
   "source": [
    "import myfirstmodule as mm"
   ]
  },
  {
   "cell_type": "code",
   "execution_count": 226,
   "metadata": {},
   "outputs": [
    {
     "data": {
      "text/plain": [
       "2"
      ]
     },
     "execution_count": 226,
     "metadata": {},
     "output_type": "execute_result"
    }
   ],
   "source": [
    "mm.find_indx([2,3,4,5],4)"
   ]
  },
  {
   "cell_type": "markdown",
   "metadata": {},
   "source": [
    "### Pick random values"
   ]
  },
  {
   "cell_type": "code",
   "execution_count": 228,
   "metadata": {},
   "outputs": [
    {
     "name": "stdout",
     "output_type": "stream",
     "text": [
      "['Statistics', 'Artificial intelligence', 'Biology', 'Commerce', 'Science', 'Maths']\n"
     ]
    }
   ],
   "source": [
    "print(subjects)"
   ]
  },
  {
   "cell_type": "code",
   "execution_count": 229,
   "metadata": {},
   "outputs": [],
   "source": [
    "import random"
   ]
  },
  {
   "cell_type": "code",
   "execution_count": 234,
   "metadata": {},
   "outputs": [
    {
     "data": {
      "text/plain": [
       "'Artificial intelligence'"
      ]
     },
     "execution_count": 234,
     "metadata": {},
     "output_type": "execute_result"
    }
   ],
   "source": [
    "random.choice(subjects) ## eveytime picks random value from that list"
   ]
  },
  {
   "cell_type": "code",
   "execution_count": 235,
   "metadata": {},
   "outputs": [],
   "source": [
    "import math"
   ]
  },
  {
   "cell_type": "code",
   "execution_count": 236,
   "metadata": {},
   "outputs": [
    {
     "data": {
      "text/plain": [
       "0.8939966636005579"
      ]
     },
     "execution_count": 236,
     "metadata": {},
     "output_type": "execute_result"
    }
   ],
   "source": [
    "math.sin(90)"
   ]
  },
  {
   "cell_type": "code",
   "execution_count": 237,
   "metadata": {},
   "outputs": [],
   "source": [
    "import datetime"
   ]
  },
  {
   "cell_type": "code",
   "execution_count": 238,
   "metadata": {},
   "outputs": [
    {
     "data": {
      "text/plain": [
       "datetime.date(2020, 4, 25)"
      ]
     },
     "execution_count": 238,
     "metadata": {},
     "output_type": "execute_result"
    }
   ],
   "source": [
    "datetime.date.today()"
   ]
  },
  {
   "cell_type": "code",
   "execution_count": 239,
   "metadata": {},
   "outputs": [],
   "source": [
    "import calendar"
   ]
  },
  {
   "cell_type": "code",
   "execution_count": 240,
   "metadata": {},
   "outputs": [
    {
     "data": {
      "text/plain": [
       "True"
      ]
     },
     "execution_count": 240,
     "metadata": {},
     "output_type": "execute_result"
    }
   ],
   "source": [
    "calendar.isleap(2020)"
   ]
  },
  {
   "cell_type": "code",
   "execution_count": 241,
   "metadata": {},
   "outputs": [],
   "source": [
    "import os"
   ]
  },
  {
   "cell_type": "code",
   "execution_count": 242,
   "metadata": {},
   "outputs": [
    {
     "data": {
      "text/plain": [
       "'C:\\\\Users\\\\Lohith'"
      ]
     },
     "execution_count": 242,
     "metadata": {},
     "output_type": "execute_result"
    }
   ],
   "source": [
    "os.getcwd()"
   ]
  },
  {
   "cell_type": "markdown",
   "metadata": {},
   "source": [
    "# List Comprehension"
   ]
  },
  {
   "cell_type": "code",
   "execution_count": 243,
   "metadata": {},
   "outputs": [],
   "source": [
    "nums=[1,2,3,4,5,6,7,8,9,10]"
   ]
  },
  {
   "cell_type": "code",
   "execution_count": 246,
   "metadata": {},
   "outputs": [
    {
     "data": {
      "text/plain": [
       "[25, 36, 49, 64, 81, 100]"
      ]
     },
     "execution_count": 246,
     "metadata": {},
     "output_type": "execute_result"
    }
   ],
   "source": [
    "[i*i for i in nums if i>=5]"
   ]
  },
  {
   "cell_type": "code",
   "execution_count": 268,
   "metadata": {},
   "outputs": [
    {
     "name": "stdout",
     "output_type": "stream",
     "text": [
      "[2, 4, 6, 8, 10]\n"
     ]
    }
   ],
   "source": [
    "my_list=filter(lambda n:n%2==0,nums)\n",
    "print(list(my_list))"
   ]
  },
  {
   "cell_type": "code",
   "execution_count": 378,
   "metadata": {},
   "outputs": [
    {
     "data": {
      "text/plain": [
       "[1, 4, 9, 16]"
      ]
     },
     "execution_count": 378,
     "metadata": {},
     "output_type": "execute_result"
    }
   ],
   "source": [
    "lst=[1,2,3,4]\n",
    "result=list(map(lambda n:n*n,lst))\n",
    "result"
   ]
  },
  {
   "cell_type": "code",
   "execution_count": 260,
   "metadata": {},
   "outputs": [
    {
     "name": "stdout",
     "output_type": "stream",
     "text": [
      "[('a', 0), ('a', 1), ('a', 2), ('a', 3), ('b', 0), ('b', 1), ('b', 2), ('b', 3), ('c', 0), ('c', 1), ('c', 2), ('c', 3), ('d', 0), ('d', 1), ('d', 2), ('d', 3)]\n"
     ]
    }
   ],
   "source": [
    "print([(i,j) for i in \"abcd\" for j in range(4)])"
   ]
  },
  {
   "cell_type": "code",
   "execution_count": 262,
   "metadata": {},
   "outputs": [],
   "source": [
    "names=[\"Bob\",\"John\",\"Max\",\"Steve\"]\n",
    "Age=[25,26,27,28]"
   ]
  },
  {
   "cell_type": "code",
   "execution_count": 267,
   "metadata": {},
   "outputs": [
    {
     "data": {
      "text/plain": [
       "[('Bob', 25), ('John', 26), ('Max', 27), ('Steve', 28)]"
      ]
     },
     "execution_count": 267,
     "metadata": {},
     "output_type": "execute_result"
    }
   ],
   "source": [
    "list(zip(names,Age))"
   ]
  },
  {
   "cell_type": "markdown",
   "metadata": {},
   "source": [
    "### Create dictionary using zip/dictionary comprehension"
   ]
  },
  {
   "cell_type": "code",
   "execution_count": 269,
   "metadata": {},
   "outputs": [
    {
     "name": "stdout",
     "output_type": "stream",
     "text": [
      "['All', 'over', 'the', 'world', 'mortality', 'rates', 'are', 'being', 'scrutinised', 'to', 'determine', 'the', 'true', 'impact', 'of', 'the', 'coronavirus', 'which', 'emerged', 'in', 'China', 'late', 'last', 'year', 'and', 'is', 'known', 'to', 'have', 'infected', 'more', 'than', '2.7', 'million', 'people', 'globally', 'with', 'nearly', '190', '000', 'deaths.']\n"
     ]
    }
   ],
   "source": [
    "print(txt_list)"
   ]
  },
  {
   "cell_type": "code",
   "execution_count": 279,
   "metadata": {},
   "outputs": [
    {
     "name": "stdout",
     "output_type": "stream",
     "text": [
      "[0, 1, 2, 3, 4, 5, 6, 7, 8, 9, 10, 11, 12, 13, 14, 15, 16, 17, 18, 19, 20, 21, 22, 23, 24, 25, 26, 27, 28, 29, 30, 31]\n"
     ]
    }
   ],
   "source": [
    "num=[]\n",
    "for i in range(len(txt2_list)):\n",
    "    num.append(i)\n",
    "print(num)"
   ]
  },
  {
   "cell_type": "code",
   "execution_count": 283,
   "metadata": {},
   "outputs": [
    {
     "name": "stdout",
     "output_type": "stream",
     "text": [
      "{'All': 0, 'over': 1, 'the': 15, 'world': 3, 'mortality': 4, 'rates': 5, 'are': 6, 'being': 7, 'scrutinised': 8, 'to': 27, 'determine': 10, 'true': 12, 'impact': 13, 'of': 14, 'coronavirus': 16, 'which': 17, 'emerged': 18, 'in': 19, 'China': 20, 'late': 21, 'last': 22, 'year': 23, 'and': 24, 'is': 25, 'known': 26, 'have': 28, 'infected': 29, 'more': 30, 'than': 31}\n"
     ]
    }
   ],
   "source": [
    "dict={}\n",
    "for i,j in zip(txt_list,num):\n",
    "    dict[i]=j\n",
    "print(dict)"
   ]
  },
  {
   "cell_type": "code",
   "execution_count": 290,
   "metadata": {},
   "outputs": [
    {
     "name": "stdout",
     "output_type": "stream",
     "text": [
      "{'over': 1, 'the': 15, 'world': 3, 'mortality': 4, 'rates': 5, 'are': 6, 'being': 7, 'scrutinised': 8, 'to': 27, 'determine': 10, 'true': 12, 'impact': 13, 'of': 14, 'coronavirus': 16, 'which': 17, 'emerged': 18, 'in': 19, 'China': 20, 'late': 21, 'last': 22, 'year': 23, 'and': 24, 'is': 25, 'known': 26, 'have': 28, 'infected': 29, 'more': 30, 'than': 31}\n"
     ]
    }
   ],
   "source": [
    "print({i:j for i,j in zip(txt_list,num) if i!=\"All\"})"
   ]
  },
  {
   "cell_type": "code",
   "execution_count": 287,
   "metadata": {},
   "outputs": [],
   "source": [
    "a=[1,2,3]\n",
    "b=[\"a\",\"b\",\"c\"]\n",
    "c=[\"d\",\"e\",\"f\"]"
   ]
  },
  {
   "cell_type": "code",
   "execution_count": 288,
   "metadata": {},
   "outputs": [
    {
     "data": {
      "text/plain": [
       "[(1, 'a', 'd'), (2, 'b', 'e'), (3, 'c', 'f')]"
      ]
     },
     "execution_count": 288,
     "metadata": {},
     "output_type": "execute_result"
    }
   ],
   "source": [
    "list(zip(a,b,c))"
   ]
  },
  {
   "cell_type": "code",
   "execution_count": 293,
   "metadata": {},
   "outputs": [
    {
     "data": {
      "text/plain": [
       "{0, 1, 4, 9}"
      ]
     },
     "execution_count": 293,
     "metadata": {},
     "output_type": "execute_result"
    }
   ],
   "source": [
    "set((n*n for n in range(4)))"
   ]
  },
  {
   "cell_type": "markdown",
   "metadata": {},
   "source": [
    "# Operating System"
   ]
  },
  {
   "cell_type": "code",
   "execution_count": 294,
   "metadata": {},
   "outputs": [],
   "source": [
    "import os"
   ]
  },
  {
   "cell_type": "code",
   "execution_count": 295,
   "metadata": {},
   "outputs": [
    {
     "data": {
      "text/plain": [
       "'C:\\\\Users\\\\Lohith'"
      ]
     },
     "execution_count": 295,
     "metadata": {},
     "output_type": "execute_result"
    }
   ],
   "source": [
    "os.getcwd()"
   ]
  },
  {
   "cell_type": "code",
   "execution_count": 296,
   "metadata": {},
   "outputs": [],
   "source": [
    "os.chdir(\"C:\\\\Users\\\\Lohith\")"
   ]
  },
  {
   "cell_type": "code",
   "execution_count": 297,
   "metadata": {},
   "outputs": [],
   "source": [
    "os.makedirs(\"OS-Demo-2/Sub-Dir-1\")"
   ]
  },
  {
   "cell_type": "code",
   "execution_count": 298,
   "metadata": {},
   "outputs": [],
   "source": [
    "os.removedirs(\"OS-Demo-2/Sub-Dir-1\")"
   ]
  },
  {
   "cell_type": "code",
   "execution_count": 308,
   "metadata": {},
   "outputs": [
    {
     "name": "stdout",
     "output_type": "stream",
     "text": [
      "2019-02-19 02:09:48\n"
     ]
    }
   ],
   "source": [
    "from datetime import datetime\n",
    "print(datetime.fromtimestamp(os.stat(\"helpers.py\").st_mtime))"
   ]
  },
  {
   "cell_type": "code",
   "execution_count": null,
   "metadata": {},
   "outputs": [],
   "source": [
    "file_path=os.path.join(os.environ.get('HOME'),'sample.txt')\n",
    "print(file_path)"
   ]
  },
  {
   "cell_type": "code",
   "execution_count": null,
   "metadata": {},
   "outputs": [],
   "source": [
    "os.rename(\"old_name\",\"new_name\")"
   ]
  },
  {
   "cell_type": "markdown",
   "metadata": {},
   "source": [
    "# File objects"
   ]
  },
  {
   "cell_type": "code",
   "execution_count": 353,
   "metadata": {
    "scrolled": true
   },
   "outputs": [
    {
     "data": {
      "text/plain": [
       "['C:\\\\Users\\\\Lohith\\\\attachment_SMSSpamCollection_lyst7328.txt',\n",
       " 'C:\\\\Users\\\\Lohith\\\\big_data.txt',\n",
       " 'C:\\\\Users\\\\Lohith\\\\book.txt',\n",
       " 'C:\\\\Users\\\\Lohith\\\\Diabetes.txt',\n",
       " 'C:\\\\Users\\\\Lohith\\\\ex01.txt',\n",
       " 'C:\\\\Users\\\\Lohith\\\\ex02.txt',\n",
       " 'C:\\\\Users\\\\Lohith\\\\ex03.txt',\n",
       " 'C:\\\\Users\\\\Lohith\\\\ex04.txt',\n",
       " 'C:\\\\Users\\\\Lohith\\\\ex05.txt',\n",
       " 'C:\\\\Users\\\\Lohith\\\\hello.txt',\n",
       " 'C:\\\\Users\\\\Lohith\\\\Spam.txt']"
      ]
     },
     "execution_count": 353,
     "metadata": {},
     "output_type": "execute_result"
    }
   ],
   "source": [
    "import glob\n",
    "file_path=os.path.join(os.getcwd(),\"*.txt\")\n",
    "glob.glob(file_path)"
   ]
  },
  {
   "cell_type": "code",
   "execution_count": 358,
   "metadata": {},
   "outputs": [
    {
     "data": {
      "text/plain": [
       "'Number of times pregnant\\tPlasma glucose concentration a 2 hours in an oral glucose tolerance test\\tDiastolic blood pressure (mm Hg)\\tTriceps skin fold thickness (mm)\\t2-Hour serum insulin (mu U/ml)\\tBody mass index (weight in kg/(height in m)^2)\\tDiabetes pedigree function\\tAge (years)\\tClass variable (0 or 1)\\n6\\t148\\t72\\t35\\t0\\t33.6\\t0.627\\t50\\t1\\n1\\t85\\t66\\t29\\t0\\t26.6\\t0.351\\t31\\t0\\n8\\t183\\t64\\t0\\t0\\t23.3\\t0.672\\t32\\t1\\n1\\t89\\t66\\t23\\t94\\t28.1\\t0.167\\t21\\t0\\n0\\t137\\t40\\t35\\t168\\t43.1\\t2.288\\t33\\t1\\n5\\t116\\t74\\t0\\t0\\t25.6\\t0.201\\t30\\t0\\n3\\t78\\t50\\t32\\t88\\t31\\t0.248\\t26\\t1\\n10\\t115\\t0\\t0\\t0\\t35.3\\t0.134\\t29\\t0\\n2\\t197\\t70\\t45\\t543\\t30.5\\t0.158\\t53\\t1\\n8\\t125\\t96\\t0\\t0\\t0\\t0.232\\t54\\t1\\n4\\t110\\t92\\t0\\t0\\t37.6\\t0.191\\t30\\t0\\n10\\t168\\t74\\t0\\t0\\t38\\t0.537\\t34\\t1\\n10\\t139\\t80\\t0\\t0\\t27.1\\t1.441\\t57\\t0\\n1\\t189\\t60\\t23\\t846\\t30.1\\t0.398\\t59\\t1\\n5\\t166\\t72\\t19\\t175\\t25.8\\t0.587\\t51\\t1\\n7\\t100\\t0\\t0\\t0\\t30\\t0.484\\t32\\t1\\n0\\t118\\t84\\t47\\t230\\t45.8\\t0.551\\t31\\t1\\n7\\t107\\t74\\t0\\t0\\t29.6\\t0.254\\t31\\t1\\n1\\t103\\t30\\t38\\t83\\t43.3\\t0.183\\t33\\t0\\n1\\t115\\t70\\t30\\t96\\t34.6\\t0.529\\t32\\t1\\n3\\t126\\t88\\t41\\t235\\t39.3\\t0.704\\t27\\t0\\n8\\t99\\t84\\t0\\t0\\t35.4\\t0.388\\t50\\t0\\n7\\t196\\t90\\t0\\t0\\t39.8\\t0.451\\t41\\t1\\n9\\t119\\t80\\t35\\t0\\t29\\t0.263\\t29\\t1\\n11\\t143\\t94\\t33\\t146\\t36.6\\t0.254\\t51\\t1\\n10\\t125\\t70\\t26\\t115\\t31.1\\t0.205\\t41\\t1\\n7\\t147\\t76\\t0\\t0\\t39.4\\t0.257\\t43\\t1\\n1\\t97\\t66\\t15\\t140\\t23.2\\t0.487\\t22\\t0\\n13\\t145\\t82\\t19\\t110\\t22.2\\t0.245\\t57\\t0\\n5\\t117\\t92\\t0\\t0\\t34.1\\t0.337\\t38\\t0\\n5\\t109\\t75\\t26\\t0\\t36\\t0.546\\t60\\t0\\n3\\t158\\t76\\t36\\t245\\t31.6\\t0.851\\t28\\t1\\n3\\t88\\t58\\t11\\t54\\t24.8\\t0.267\\t22\\t0\\n6\\t92\\t92\\t0\\t0\\t19.9\\t0.188\\t28\\t0\\n10\\t122\\t78\\t31\\t0\\t27.6\\t0.512\\t45\\t0\\n4\\t103\\t60\\t33\\t192\\t24\\t0.966\\t33\\t0\\n11\\t138\\t76\\t0\\t0\\t33.2\\t0.42\\t35\\t0\\n9\\t102\\t76\\t37\\t0\\t32.9\\t0.665\\t46\\t1\\n2\\t90\\t68\\t42\\t0\\t38.2\\t0.503\\t27\\t1\\n4\\t111\\t72\\t47\\t207\\t37.1\\t1.39\\t56\\t1\\n3\\t180\\t64\\t25\\t70\\t34\\t0.271\\t26\\t0\\n7\\t133\\t84\\t0\\t0\\t40.2\\t0.696\\t37\\t0\\n7\\t106\\t92\\t18\\t0\\t22.7\\t0.235\\t48\\t0\\n9\\t171\\t110\\t24\\t240\\t45.4\\t0.721\\t54\\t1\\n7\\t159\\t64\\t0\\t0\\t27.4\\t0.294\\t40\\t0\\n0\\t180\\t66\\t39\\t0\\t42\\t1.893\\t25\\t1\\n1\\t146\\t56\\t0\\t0\\t29.7\\t0.564\\t29\\t0\\n2\\t71\\t70\\t27\\t0\\t28\\t0.586\\t22\\t0\\n7\\t103\\t66\\t32\\t0\\t39.1\\t0.344\\t31\\t1\\n7\\t105\\t0\\t0\\t0\\t0\\t0.305\\t24\\t0\\n1\\t103\\t80\\t11\\t82\\t19.4\\t0.491\\t22\\t0\\n1\\t101\\t50\\t15\\t36\\t24.2\\t0.526\\t26\\t0\\n5\\t88\\t66\\t21\\t23\\t24.4\\t0.342\\t30\\t0\\n8\\t176\\t90\\t34\\t300\\t33.7\\t0.467\\t58\\t1\\n7\\t150\\t66\\t42\\t342\\t34.7\\t0.718\\t42\\t0\\n1\\t73\\t50\\t10\\t0\\t23\\t0.248\\t21\\t0\\n7\\t187\\t68\\t39\\t304\\t37.7\\t0.254\\t41\\t1\\n0\\t100\\t88\\t60\\t110\\t46.8\\t0.962\\t31\\t0\\n0\\t146\\t82\\t0\\t0\\t40.5\\t1.781\\t44\\t0\\n0\\t105\\t64\\t41\\t142\\t41.5\\t0.173\\t22\\t0\\n2\\t84\\t0\\t0\\t0\\t0\\t0.304\\t21\\t0\\n8\\t133\\t72\\t0\\t0\\t32.9\\t0.27\\t39\\t1\\n5\\t44\\t62\\t0\\t0\\t25\\t0.587\\t36\\t0\\n2\\t141\\t58\\t34\\t128\\t25.4\\t0.699\\t24\\t0\\n7\\t114\\t66\\t0\\t0\\t32.8\\t0.258\\t42\\t1\\n5\\t99\\t74\\t27\\t0\\t29\\t0.203\\t32\\t0\\n0\\t109\\t88\\t30\\t0\\t32.5\\t0.855\\t38\\t1\\n2\\t109\\t92\\t0\\t0\\t42.7\\t0.845\\t54\\t0\\n1\\t95\\t66\\t13\\t38\\t19.6\\t0.334\\t25\\t0\\n4\\t146\\t85\\t27\\t100\\t28.9\\t0.189\\t27\\t0\\n2\\t100\\t66\\t20\\t90\\t32.9\\t0.867\\t28\\t1\\n5\\t139\\t64\\t35\\t140\\t28.6\\t0.411\\t26\\t0\\n13\\t126\\t90\\t0\\t0\\t43.4\\t0.583\\t42\\t1\\n4\\t129\\t86\\t20\\t270\\t35.1\\t0.231\\t23\\t0\\n1\\t79\\t75\\t30\\t0\\t32\\t0.396\\t22\\t0\\n1\\t0\\t48\\t20\\t0\\t24.7\\t0.14\\t22\\t0\\n7\\t62\\t78\\t0\\t0\\t32.6\\t0.391\\t41\\t0\\n5\\t95\\t72\\t33\\t0\\t37.7\\t0.37\\t27\\t0\\n0\\t131\\t0\\t0\\t0\\t43.2\\t0.27\\t26\\t1\\n2\\t112\\t66\\t22\\t0\\t25\\t0.307\\t24\\t0\\n3\\t113\\t44\\t13\\t0\\t22.4\\t0.14\\t22\\t0\\n2\\t74\\t0\\t0\\t0\\t0\\t0.102\\t22\\t0\\n7\\t83\\t78\\t26\\t71\\t29.3\\t0.767\\t36\\t0\\n0\\t101\\t65\\t28\\t0\\t24.6\\t0.237\\t22\\t0\\n5\\t137\\t108\\t0\\t0\\t48.8\\t0.227\\t37\\t1\\n2\\t110\\t74\\t29\\t125\\t32.4\\t0.698\\t27\\t0\\n13\\t106\\t72\\t54\\t0\\t36.6\\t0.178\\t45\\t0\\n2\\t100\\t68\\t25\\t71\\t38.5\\t0.324\\t26\\t0\\n15\\t136\\t70\\t32\\t110\\t37.1\\t0.153\\t43\\t1\\n1\\t107\\t68\\t19\\t0\\t26.5\\t0.165\\t24\\t0\\n1\\t80\\t55\\t0\\t0\\t19.1\\t0.258\\t21\\t0\\n4\\t123\\t80\\t15\\t176\\t32\\t0.443\\t34\\t0\\n7\\t81\\t78\\t40\\t48\\t46.7\\t0.261\\t42\\t0\\n4\\t134\\t72\\t0\\t0\\t23.8\\t0.277\\t60\\t1\\n2\\t142\\t82\\t18\\t64\\t24.7\\t0.761\\t21\\t0\\n6\\t144\\t72\\t27\\t228\\t33.9\\t0.255\\t40\\t0\\n2\\t92\\t62\\t28\\t0\\t31.6\\t0.13\\t24\\t0\\n1\\t71\\t48\\t18\\t76\\t20.4\\t0.323\\t22\\t0\\n6\\t93\\t50\\t30\\t64\\t28.7\\t0.356\\t23\\t0\\n1\\t122\\t90\\t51\\t220\\t49.7\\t0.325\\t31\\t1\\n1\\t163\\t72\\t0\\t0\\t39\\t1.222\\t33\\t1\\n1\\t151\\t60\\t0\\t0\\t26.1\\t0.179\\t22\\t0\\n0\\t125\\t96\\t0\\t0\\t22.5\\t0.262\\t21\\t0\\n1\\t81\\t72\\t18\\t40\\t26.6\\t0.283\\t24\\t0\\n2\\t85\\t65\\t0\\t0\\t39.6\\t0.93\\t27\\t0\\n1\\t126\\t56\\t29\\t152\\t28.7\\t0.801\\t21\\t0\\n1\\t96\\t122\\t0\\t0\\t22.4\\t0.207\\t27\\t0\\n4\\t144\\t58\\t28\\t140\\t29.5\\t0.287\\t37\\t0\\n3\\t83\\t58\\t31\\t18\\t34.3\\t0.336\\t25\\t0\\n0\\t95\\t85\\t25\\t36\\t37.4\\t0.247\\t24\\t1\\n3\\t171\\t72\\t33\\t135\\t33.3\\t0.199\\t24\\t1\\n8\\t155\\t62\\t26\\t495\\t34\\t0.543\\t46\\t1\\n1\\t89\\t76\\t34\\t37\\t31.2\\t0.192\\t23\\t0\\n4\\t76\\t62\\t0\\t0\\t34\\t0.391\\t25\\t0\\n7\\t160\\t54\\t32\\t175\\t30.5\\t0.588\\t39\\t1\\n4\\t146\\t92\\t0\\t0\\t31.2\\t0.539\\t61\\t1\\n5\\t124\\t74\\t0\\t0\\t34\\t0.22\\t38\\t1\\n5\\t78\\t48\\t0\\t0\\t33.7\\t0.654\\t25\\t0\\n4\\t97\\t60\\t23\\t0\\t28.2\\t0.443\\t22\\t0\\n4\\t99\\t76\\t15\\t51\\t23.2\\t0.223\\t21\\t0\\n0\\t162\\t76\\t56\\t100\\t53.2\\t0.759\\t25\\t1\\n6\\t111\\t64\\t39\\t0\\t34.2\\t0.26\\t24\\t0\\n2\\t107\\t74\\t30\\t100\\t33.6\\t0.404\\t23\\t0\\n5\\t132\\t80\\t0\\t0\\t26.8\\t0.186\\t69\\t0\\n0\\t113\\t76\\t0\\t0\\t33.3\\t0.278\\t23\\t1\\n1\\t88\\t30\\t42\\t99\\t55\\t0.496\\t26\\t1\\n3\\t120\\t70\\t30\\t135\\t42.9\\t0.452\\t30\\t0\\n1\\t118\\t58\\t36\\t94\\t33.3\\t0.261\\t23\\t0\\n1\\t117\\t88\\t24\\t145\\t34.5\\t0.403\\t40\\t1\\n0\\t105\\t84\\t0\\t0\\t27.9\\t0.741\\t62\\t1\\n4\\t173\\t70\\t14\\t168\\t29.7\\t0.361\\t33\\t1\\n9\\t122\\t56\\t0\\t0\\t33.3\\t1.114\\t33\\t1\\n3\\t170\\t64\\t37\\t225\\t34.5\\t0.356\\t30\\t1\\n8\\t84\\t74\\t31\\t0\\t38.3\\t0.457\\t39\\t0\\n2\\t96\\t68\\t13\\t49\\t21.1\\t0.647\\t26\\t0\\n2\\t125\\t60\\t20\\t140\\t33.8\\t0.088\\t31\\t0\\n0\\t100\\t70\\t26\\t50\\t30.8\\t0.597\\t21\\t0\\n0\\t93\\t60\\t25\\t92\\t28.7\\t0.532\\t22\\t0\\n0\\t129\\t80\\t0\\t0\\t31.2\\t0.703\\t29\\t0\\n5\\t105\\t72\\t29\\t325\\t36.9\\t0.159\\t28\\t0\\n3\\t128\\t78\\t0\\t0\\t21.1\\t0.268\\t55\\t0\\n5\\t106\\t82\\t30\\t0\\t39.5\\t0.286\\t38\\t0\\n2\\t108\\t52\\t26\\t63\\t32.5\\t0.318\\t22\\t0\\n10\\t108\\t66\\t0\\t0\\t32.4\\t0.272\\t42\\t1\\n4\\t154\\t62\\t31\\t284\\t32.8\\t0.237\\t23\\t0\\n0\\t102\\t75\\t23\\t0\\t0\\t0.572\\t21\\t0\\n9\\t57\\t80\\t37\\t0\\t32.8\\t0.096\\t41\\t0\\n2\\t106\\t64\\t35\\t119\\t30.5\\t1.4\\t34\\t0\\n5\\t147\\t78\\t0\\t0\\t33.7\\t0.218\\t65\\t0\\n2\\t90\\t70\\t17\\t0\\t27.3\\t0.085\\t22\\t0\\n1\\t136\\t74\\t50\\t204\\t37.4\\t0.399\\t24\\t0\\n4\\t114\\t65\\t0\\t0\\t21.9\\t0.432\\t37\\t0\\n9\\t156\\t86\\t28\\t155\\t34.3\\t1.189\\t42\\t1\\n1\\t153\\t82\\t42\\t485\\t40.6\\t0.687\\t23\\t0\\n8\\t188\\t78\\t0\\t0\\t47.9\\t0.137\\t43\\t1\\n7\\t152\\t88\\t44\\t0\\t50\\t0.337\\t36\\t1\\n2\\t99\\t52\\t15\\t94\\t24.6\\t0.637\\t21\\t0\\n1\\t109\\t56\\t21\\t135\\t25.2\\t0.833\\t23\\t0\\n2\\t88\\t74\\t19\\t53\\t29\\t0.229\\t22\\t0\\n17\\t163\\t72\\t41\\t114\\t40.9\\t0.817\\t47\\t1\\n4\\t151\\t90\\t38\\t0\\t29.7\\t0.294\\t36\\t0\\n7\\t102\\t74\\t40\\t105\\t37.2\\t0.204\\t45\\t0\\n0\\t114\\t80\\t34\\t285\\t44.2\\t0.167\\t27\\t0\\n2\\t100\\t64\\t23\\t0\\t29.7\\t0.368\\t21\\t0\\n0\\t131\\t88\\t0\\t0\\t31.6\\t0.743\\t32\\t1\\n6\\t104\\t74\\t18\\t156\\t29.9\\t0.722\\t41\\t1\\n3\\t148\\t66\\t25\\t0\\t32.5\\t0.256\\t22\\t0\\n4\\t120\\t68\\t0\\t0\\t29.6\\t0.709\\t34\\t0\\n4\\t110\\t66\\t0\\t0\\t31.9\\t0.471\\t29\\t0\\n3\\t111\\t90\\t12\\t78\\t28.4\\t0.495\\t29\\t0\\n6\\t102\\t82\\t0\\t0\\t30.8\\t0.18\\t36\\t1\\n6\\t134\\t70\\t23\\t130\\t35.4\\t0.542\\t29\\t1\\n2\\t87\\t0\\t23\\t0\\t28.9\\t0.773\\t25\\t0\\n1\\t79\\t60\\t42\\t48\\t43.5\\t0.678\\t23\\t0\\n2\\t75\\t64\\t24\\t55\\t29.7\\t0.37\\t33\\t0\\n8\\t179\\t72\\t42\\t130\\t32.7\\t0.719\\t36\\t1\\n6\\t85\\t78\\t0\\t0\\t31.2\\t0.382\\t42\\t0\\n0\\t129\\t110\\t46\\t130\\t67.1\\t0.319\\t26\\t1\\n5\\t143\\t78\\t0\\t0\\t45\\t0.19\\t47\\t0\\n5\\t130\\t82\\t0\\t0\\t39.1\\t0.956\\t37\\t1\\n6\\t87\\t80\\t0\\t0\\t23.2\\t0.084\\t32\\t0\\n0\\t119\\t64\\t18\\t92\\t34.9\\t0.725\\t23\\t0\\n1\\t0\\t74\\t20\\t23\\t27.7\\t0.299\\t21\\t0\\n5\\t73\\t60\\t0\\t0\\t26.8\\t0.268\\t27\\t0\\n4\\t141\\t74\\t0\\t0\\t27.6\\t0.244\\t40\\t0\\n7\\t194\\t68\\t28\\t0\\t35.9\\t0.745\\t41\\t1\\n8\\t181\\t68\\t36\\t495\\t30.1\\t0.615\\t60\\t1\\n1\\t128\\t98\\t41\\t58\\t32\\t1.321\\t33\\t1\\n8\\t109\\t76\\t39\\t114\\t27.9\\t0.64\\t31\\t1\\n5\\t139\\t80\\t35\\t160\\t31.6\\t0.361\\t25\\t1\\n3\\t111\\t62\\t0\\t0\\t22.6\\t0.142\\t21\\t0\\n9\\t123\\t70\\t44\\t94\\t33.1\\t0.374\\t40\\t0\\n7\\t159\\t66\\t0\\t0\\t30.4\\t0.383\\t36\\t1\\n11\\t135\\t0\\t0\\t0\\t52.3\\t0.578\\t40\\t1\\n8\\t85\\t55\\t20\\t0\\t24.4\\t0.136\\t42\\t0\\n5\\t158\\t84\\t41\\t210\\t39.4\\t0.395\\t29\\t1\\n1\\t105\\t58\\t0\\t0\\t24.3\\t0.187\\t21\\t0\\n3\\t107\\t62\\t13\\t48\\t22.9\\t0.678\\t23\\t1\\n4\\t109\\t64\\t44\\t99\\t34.8\\t0.905\\t26\\t1\\n4\\t148\\t60\\t27\\t318\\t30.9\\t0.15\\t29\\t1\\n0\\t113\\t80\\t16\\t0\\t31\\t0.874\\t21\\t0\\n1\\t138\\t82\\t0\\t0\\t40.1\\t0.236\\t28\\t0\\n0\\t108\\t68\\t20\\t0\\t27.3\\t0.787\\t32\\t0\\n2\\t99\\t70\\t16\\t44\\t20.4\\t0.235\\t27\\t0\\n6\\t103\\t72\\t32\\t190\\t37.7\\t0.324\\t55\\t0\\n5\\t111\\t72\\t28\\t0\\t23.9\\t0.407\\t27\\t0\\n8\\t196\\t76\\t29\\t280\\t37.5\\t0.605\\t57\\t1\\n5\\t162\\t104\\t0\\t0\\t37.7\\t0.151\\t52\\t1\\n1\\t96\\t64\\t27\\t87\\t33.2\\t0.289\\t21\\t0\\n7\\t184\\t84\\t33\\t0\\t35.5\\t0.355\\t41\\t1\\n2\\t81\\t60\\t22\\t0\\t27.7\\t0.29\\t25\\t0\\n0\\t147\\t85\\t54\\t0\\t42.8\\t0.375\\t24\\t0\\n7\\t179\\t95\\t31\\t0\\t34.2\\t0.164\\t60\\t0\\n0\\t140\\t65\\t26\\t130\\t42.6\\t0.431\\t24\\t1\\n9\\t112\\t82\\t32\\t175\\t34.2\\t0.26\\t36\\t1\\n12\\t151\\t70\\t40\\t271\\t41.8\\t0.742\\t38\\t1\\n5\\t109\\t62\\t41\\t129\\t35.8\\t0.514\\t25\\t1\\n6\\t125\\t68\\t30\\t120\\t30\\t0.464\\t32\\t0\\n5\\t85\\t74\\t22\\t0\\t29\\t1.224\\t32\\t1\\n5\\t112\\t66\\t0\\t0\\t37.8\\t0.261\\t41\\t1\\n0\\t177\\t60\\t29\\t478\\t34.6\\t1.072\\t21\\t1\\n2\\t158\\t90\\t0\\t0\\t31.6\\t0.805\\t66\\t1\\n7\\t119\\t0\\t0\\t0\\t25.2\\t0.209\\t37\\t0\\n7\\t142\\t60\\t33\\t190\\t28.8\\t0.687\\t61\\t0\\n1\\t100\\t66\\t15\\t56\\t23.6\\t0.666\\t26\\t0\\n1\\t87\\t78\\t27\\t32\\t34.6\\t0.101\\t22\\t0\\n0\\t101\\t76\\t0\\t0\\t35.7\\t0.198\\t26\\t0\\n3\\t162\\t52\\t38\\t0\\t37.2\\t0.652\\t24\\t1\\n4\\t197\\t70\\t39\\t744\\t36.7\\t2.329\\t31\\t0\\n0\\t117\\t80\\t31\\t53\\t45.2\\t0.089\\t24\\t0\\n4\\t142\\t86\\t0\\t0\\t44\\t0.645\\t22\\t1\\n6\\t134\\t80\\t37\\t370\\t46.2\\t0.238\\t46\\t1\\n1\\t79\\t80\\t25\\t37\\t25.4\\t0.583\\t22\\t0\\n4\\t122\\t68\\t0\\t0\\t35\\t0.394\\t29\\t0\\n3\\t74\\t68\\t28\\t45\\t29.7\\t0.293\\t23\\t0\\n4\\t171\\t72\\t0\\t0\\t43.6\\t0.479\\t26\\t1\\n7\\t181\\t84\\t21\\t192\\t35.9\\t0.586\\t51\\t1\\n0\\t179\\t90\\t27\\t0\\t44.1\\t0.686\\t23\\t1\\n9\\t164\\t84\\t21\\t0\\t30.8\\t0.831\\t32\\t1\\n0\\t104\\t76\\t0\\t0\\t18.4\\t0.582\\t27\\t0\\n1\\t91\\t64\\t24\\t0\\t29.2\\t0.192\\t21\\t0\\n4\\t91\\t70\\t32\\t88\\t33.1\\t0.446\\t22\\t0\\n3\\t139\\t54\\t0\\t0\\t25.6\\t0.402\\t22\\t1\\n6\\t119\\t50\\t22\\t176\\t27.1\\t1.318\\t33\\t1\\n2\\t146\\t76\\t35\\t194\\t38.2\\t0.329\\t29\\t0\\n9\\t184\\t85\\t15\\t0\\t30\\t1.213\\t49\\t1\\n10\\t122\\t68\\t0\\t0\\t31.2\\t0.258\\t41\\t0\\n0\\t165\\t90\\t33\\t680\\t52.3\\t0.427\\t23\\t0\\n9\\t124\\t70\\t33\\t402\\t35.4\\t0.282\\t34\\t0\\n1\\t111\\t86\\t19\\t0\\t30.1\\t0.143\\t23\\t0\\n9\\t106\\t52\\t0\\t0\\t31.2\\t0.38\\t42\\t0\\n2\\t129\\t84\\t0\\t0\\t28\\t0.284\\t27\\t0\\n2\\t90\\t80\\t14\\t55\\t24.4\\t0.249\\t24\\t0\\n0\\t86\\t68\\t32\\t0\\t35.8\\t0.238\\t25\\t0\\n12\\t92\\t62\\t7\\t258\\t27.6\\t0.926\\t44\\t1\\n1\\t113\\t64\\t35\\t0\\t33.6\\t0.543\\t21\\t1\\n3\\t111\\t56\\t39\\t0\\t30.1\\t0.557\\t30\\t0\\n2\\t114\\t68\\t22\\t0\\t28.7\\t0.092\\t25\\t0\\n1\\t193\\t50\\t16\\t375\\t25.9\\t0.655\\t24\\t0\\n11\\t155\\t76\\t28\\t150\\t33.3\\t1.353\\t51\\t1\\n3\\t191\\t68\\t15\\t130\\t30.9\\t0.299\\t34\\t0\\n3\\t141\\t0\\t0\\t0\\t30\\t0.761\\t27\\t1\\n4\\t95\\t70\\t32\\t0\\t32.1\\t0.612\\t24\\t0\\n3\\t142\\t80\\t15\\t0\\t32.4\\t0.2\\t63\\t0\\n4\\t123\\t62\\t0\\t0\\t32\\t0.226\\t35\\t1\\n5\\t96\\t74\\t18\\t67\\t33.6\\t0.997\\t43\\t0\\n0\\t138\\t0\\t0\\t0\\t36.3\\t0.933\\t25\\t1\\n2\\t128\\t64\\t42\\t0\\t40\\t1.101\\t24\\t0\\n0\\t102\\t52\\t0\\t0\\t25.1\\t0.078\\t21\\t0\\n2\\t146\\t0\\t0\\t0\\t27.5\\t0.24\\t28\\t1\\n10\\t101\\t86\\t37\\t0\\t45.6\\t1.136\\t38\\t1\\n2\\t108\\t62\\t32\\t56\\t25.2\\t0.128\\t21\\t0\\n3\\t122\\t78\\t0\\t0\\t23\\t0.254\\t40\\t0\\n1\\t71\\t78\\t50\\t45\\t33.2\\t0.422\\t21\\t0\\n13\\t106\\t70\\t0\\t0\\t34.2\\t0.251\\t52\\t0\\n2\\t100\\t70\\t52\\t57\\t40.5\\t0.677\\t25\\t0\\n7\\t106\\t60\\t24\\t0\\t26.5\\t0.296\\t29\\t1\\n0\\t104\\t64\\t23\\t116\\t27.8\\t0.454\\t23\\t0\\n5\\t114\\t74\\t0\\t0\\t24.9\\t0.744\\t57\\t0\\n2\\t108\\t62\\t10\\t278\\t25.3\\t0.881\\t22\\t0\\n0\\t146\\t70\\t0\\t0\\t37.9\\t0.334\\t28\\t1\\n10\\t129\\t76\\t28\\t122\\t35.9\\t0.28\\t39\\t0\\n7\\t133\\t88\\t15\\t155\\t32.4\\t0.262\\t37\\t0\\n7\\t161\\t86\\t0\\t0\\t30.4\\t0.165\\t47\\t1\\n2\\t108\\t80\\t0\\t0\\t27\\t0.259\\t52\\t1\\n7\\t136\\t74\\t26\\t135\\t26\\t0.647\\t51\\t0\\n5\\t155\\t84\\t44\\t545\\t38.7\\t0.619\\t34\\t0\\n1\\t119\\t86\\t39\\t220\\t45.6\\t0.808\\t29\\t1\\n4\\t96\\t56\\t17\\t49\\t20.8\\t0.34\\t26\\t0\\n5\\t108\\t72\\t43\\t75\\t36.1\\t0.263\\t33\\t0\\n0\\t78\\t88\\t29\\t40\\t36.9\\t0.434\\t21\\t0\\n0\\t107\\t62\\t30\\t74\\t36.6\\t0.757\\t25\\t1\\n2\\t128\\t78\\t37\\t182\\t43.3\\t1.224\\t31\\t1\\n1\\t128\\t48\\t45\\t194\\t40.5\\t0.613\\t24\\t1\\n0\\t161\\t50\\t0\\t0\\t21.9\\t0.254\\t65\\t0\\n6\\t151\\t62\\t31\\t120\\t35.5\\t0.692\\t28\\t0\\n2\\t146\\t70\\t38\\t360\\t28\\t0.337\\t29\\t1\\n0\\t126\\t84\\t29\\t215\\t30.7\\t0.52\\t24\\t0\\n14\\t100\\t78\\t25\\t184\\t36.6\\t0.412\\t46\\t1\\n8\\t112\\t72\\t0\\t0\\t23.6\\t0.84\\t58\\t0\\n0\\t167\\t0\\t0\\t0\\t32.3\\t0.839\\t30\\t1\\n2\\t144\\t58\\t33\\t135\\t31.6\\t0.422\\t25\\t1\\n5\\t77\\t82\\t41\\t42\\t35.8\\t0.156\\t35\\t0\\n5\\t115\\t98\\t0\\t0\\t52.9\\t0.209\\t28\\t1\\n3\\t150\\t76\\t0\\t0\\t21\\t0.207\\t37\\t0\\n2\\t120\\t76\\t37\\t105\\t39.7\\t0.215\\t29\\t0\\n10\\t161\\t68\\t23\\t132\\t25.5\\t0.326\\t47\\t1\\n0\\t137\\t68\\t14\\t148\\t24.8\\t0.143\\t21\\t0\\n0\\t128\\t68\\t19\\t180\\t30.5\\t1.391\\t25\\t1\\n2\\t124\\t68\\t28\\t205\\t32.9\\t0.875\\t30\\t1\\n6\\t80\\t66\\t30\\t0\\t26.2\\t0.313\\t41\\t0\\n0\\t106\\t70\\t37\\t148\\t39.4\\t0.605\\t22\\t0\\n2\\t155\\t74\\t17\\t96\\t26.6\\t0.433\\t27\\t1\\n3\\t113\\t50\\t10\\t85\\t29.5\\t0.626\\t25\\t0\\n7\\t109\\t80\\t31\\t0\\t35.9\\t1.127\\t43\\t1\\n2\\t112\\t68\\t22\\t94\\t34.1\\t0.315\\t26\\t0\\n3\\t99\\t80\\t11\\t64\\t19.3\\t0.284\\t30\\t0\\n3\\t182\\t74\\t0\\t0\\t30.5\\t0.345\\t29\\t1\\n3\\t115\\t66\\t39\\t140\\t38.1\\t0.15\\t28\\t0\\n6\\t194\\t78\\t0\\t0\\t23.5\\t0.129\\t59\\t1\\n4\\t129\\t60\\t12\\t231\\t27.5\\t0.527\\t31\\t0\\n3\\t112\\t74\\t30\\t0\\t31.6\\t0.197\\t25\\t1\\n0\\t124\\t70\\t20\\t0\\t27.4\\t0.254\\t36\\t1\\n13\\t152\\t90\\t33\\t29\\t26.8\\t0.731\\t43\\t1\\n2\\t112\\t75\\t32\\t0\\t35.7\\t0.148\\t21\\t0\\n1\\t157\\t72\\t21\\t168\\t25.6\\t0.123\\t24\\t0\\n1\\t122\\t64\\t32\\t156\\t35.1\\t0.692\\t30\\t1\\n10\\t179\\t70\\t0\\t0\\t35.1\\t0.2\\t37\\t0\\n2\\t102\\t86\\t36\\t120\\t45.5\\t0.127\\t23\\t1\\n6\\t105\\t70\\t32\\t68\\t30.8\\t0.122\\t37\\t0\\n8\\t118\\t72\\t19\\t0\\t23.1\\t1.476\\t46\\t0\\n2\\t87\\t58\\t16\\t52\\t32.7\\t0.166\\t25\\t0\\n1\\t180\\t0\\t0\\t0\\t43.3\\t0.282\\t41\\t1\\n12\\t106\\t80\\t0\\t0\\t23.6\\t0.137\\t44\\t0\\n1\\t95\\t60\\t18\\t58\\t23.9\\t0.26\\t22\\t0\\n0\\t165\\t76\\t43\\t255\\t47.9\\t0.259\\t26\\t0\\n0\\t117\\t0\\t0\\t0\\t33.8\\t0.932\\t44\\t0\\n5\\t115\\t76\\t0\\t0\\t31.2\\t0.343\\t44\\t1\\n9\\t152\\t78\\t34\\t171\\t34.2\\t0.893\\t33\\t1\\n7\\t178\\t84\\t0\\t0\\t39.9\\t0.331\\t41\\t1\\n1\\t130\\t70\\t13\\t105\\t25.9\\t0.472\\t22\\t0\\n1\\t95\\t74\\t21\\t73\\t25.9\\t0.673\\t36\\t0\\n1\\t0\\t68\\t35\\t0\\t32\\t0.389\\t22\\t0\\n5\\t122\\t86\\t0\\t0\\t34.7\\t0.29\\t33\\t0\\n8\\t95\\t72\\t0\\t0\\t36.8\\t0.485\\t57\\t0\\n8\\t126\\t88\\t36\\t108\\t38.5\\t0.349\\t49\\t0\\n1\\t139\\t46\\t19\\t83\\t28.7\\t0.654\\t22\\t0\\n3\\t116\\t0\\t0\\t0\\t23.5\\t0.187\\t23\\t0\\n3\\t99\\t62\\t19\\t74\\t21.8\\t0.279\\t26\\t0\\n5\\t0\\t80\\t32\\t0\\t41\\t0.346\\t37\\t1\\n4\\t92\\t80\\t0\\t0\\t42.2\\t0.237\\t29\\t0\\n4\\t137\\t84\\t0\\t0\\t31.2\\t0.252\\t30\\t0\\n3\\t61\\t82\\t28\\t0\\t34.4\\t0.243\\t46\\t0\\n1\\t90\\t62\\t12\\t43\\t27.2\\t0.58\\t24\\t0\\n3\\t90\\t78\\t0\\t0\\t42.7\\t0.559\\t21\\t0\\n9\\t165\\t88\\t0\\t0\\t30.4\\t0.302\\t49\\t1\\n1\\t125\\t50\\t40\\t167\\t33.3\\t0.962\\t28\\t1\\n13\\t129\\t0\\t30\\t0\\t39.9\\t0.569\\t44\\t1\\n12\\t88\\t74\\t40\\t54\\t35.3\\t0.378\\t48\\t0\\n1\\t196\\t76\\t36\\t249\\t36.5\\t0.875\\t29\\t1\\n5\\t189\\t64\\t33\\t325\\t31.2\\t0.583\\t29\\t1\\n5\\t158\\t70\\t0\\t0\\t29.8\\t0.207\\t63\\t0\\n5\\t103\\t108\\t37\\t0\\t39.2\\t0.305\\t65\\t0\\n4\\t146\\t78\\t0\\t0\\t38.5\\t0.52\\t67\\t1\\n4\\t147\\t74\\t25\\t293\\t34.9\\t0.385\\t30\\t0\\n5\\t99\\t54\\t28\\t83\\t34\\t0.499\\t30\\t0\\n6\\t124\\t72\\t0\\t0\\t27.6\\t0.368\\t29\\t1\\n0\\t101\\t64\\t17\\t0\\t21\\t0.252\\t21\\t0\\n3\\t81\\t86\\t16\\t66\\t27.5\\t0.306\\t22\\t0\\n1\\t133\\t102\\t28\\t140\\t32.8\\t0.234\\t45\\t1\\n3\\t173\\t82\\t48\\t465\\t38.4\\t2.137\\t25\\t1\\n0\\t118\\t64\\t23\\t89\\t0\\t1.731\\t21\\t0\\n0\\t84\\t64\\t22\\t66\\t35.8\\t0.545\\t21\\t0\\n2\\t105\\t58\\t40\\t94\\t34.9\\t0.225\\t25\\t0\\n2\\t122\\t52\\t43\\t158\\t36.2\\t0.816\\t28\\t0\\n12\\t140\\t82\\t43\\t325\\t39.2\\t0.528\\t58\\t1\\n0\\t98\\t82\\t15\\t84\\t25.2\\t0.299\\t22\\t0\\n1\\t87\\t60\\t37\\t75\\t37.2\\t0.509\\t22\\t0\\n4\\t156\\t75\\t0\\t0\\t48.3\\t0.238\\t32\\t1\\n0\\t93\\t100\\t39\\t72\\t43.4\\t1.021\\t35\\t0\\n1\\t107\\t72\\t30\\t82\\t30.8\\t0.821\\t24\\t0\\n0\\t105\\t68\\t22\\t0\\t20\\t0.236\\t22\\t0\\n1\\t109\\t60\\t8\\t182\\t25.4\\t0.947\\t21\\t0\\n1\\t90\\t62\\t18\\t59\\t25.1\\t1.268\\t25\\t0\\n1\\t125\\t70\\t24\\t110\\t24.3\\t0.221\\t25\\t0\\n1\\t119\\t54\\t13\\t50\\t22.3\\t0.205\\t24\\t0\\n5\\t116\\t74\\t29\\t0\\t32.3\\t0.66\\t35\\t1\\n8\\t105\\t100\\t36\\t0\\t43.3\\t0.239\\t45\\t1\\n5\\t144\\t82\\t26\\t285\\t32\\t0.452\\t58\\t1\\n3\\t100\\t68\\t23\\t81\\t31.6\\t0.949\\t28\\t0\\n1\\t100\\t66\\t29\\t196\\t32\\t0.444\\t42\\t0\\n5\\t166\\t76\\t0\\t0\\t45.7\\t0.34\\t27\\t1\\n1\\t131\\t64\\t14\\t415\\t23.7\\t0.389\\t21\\t0\\n4\\t116\\t72\\t12\\t87\\t22.1\\t0.463\\t37\\t0\\n4\\t158\\t78\\t0\\t0\\t32.9\\t0.803\\t31\\t1\\n2\\t127\\t58\\t24\\t275\\t27.7\\t1.6\\t25\\t0\\n3\\t96\\t56\\t34\\t115\\t24.7\\t0.944\\t39\\t0\\n0\\t131\\t66\\t40\\t0\\t34.3\\t0.196\\t22\\t1\\n3\\t82\\t70\\t0\\t0\\t21.1\\t0.389\\t25\\t0\\n3\\t193\\t70\\t31\\t0\\t34.9\\t0.241\\t25\\t1\\n4\\t95\\t64\\t0\\t0\\t32\\t0.161\\t31\\t1\\n6\\t137\\t61\\t0\\t0\\t24.2\\t0.151\\t55\\t0\\n5\\t136\\t84\\t41\\t88\\t35\\t0.286\\t35\\t1\\n9\\t72\\t78\\t25\\t0\\t31.6\\t0.28\\t38\\t0\\n5\\t168\\t64\\t0\\t0\\t32.9\\t0.135\\t41\\t1\\n2\\t123\\t48\\t32\\t165\\t42.1\\t0.52\\t26\\t0\\n4\\t115\\t72\\t0\\t0\\t28.9\\t0.376\\t46\\t1\\n0\\t101\\t62\\t0\\t0\\t21.9\\t0.336\\t25\\t0\\n8\\t197\\t74\\t0\\t0\\t25.9\\t1.191\\t39\\t1\\n1\\t172\\t68\\t49\\t579\\t42.4\\t0.702\\t28\\t1\\n6\\t102\\t90\\t39\\t0\\t35.7\\t0.674\\t28\\t0\\n1\\t112\\t72\\t30\\t176\\t34.4\\t0.528\\t25\\t0\\n1\\t143\\t84\\t23\\t310\\t42.4\\t1.076\\t22\\t0\\n1\\t143\\t74\\t22\\t61\\t26.2\\t0.256\\t21\\t0\\n0\\t138\\t60\\t35\\t167\\t34.6\\t0.534\\t21\\t1\\n3\\t173\\t84\\t33\\t474\\t35.7\\t0.258\\t22\\t1\\n1\\t97\\t68\\t21\\t0\\t27.2\\t1.095\\t22\\t0\\n4\\t144\\t82\\t32\\t0\\t38.5\\t0.554\\t37\\t1\\n1\\t83\\t68\\t0\\t0\\t18.2\\t0.624\\t27\\t0\\n3\\t129\\t64\\t29\\t115\\t26.4\\t0.219\\t28\\t1\\n1\\t119\\t88\\t41\\t170\\t45.3\\t0.507\\t26\\t0\\n2\\t94\\t68\\t18\\t76\\t26\\t0.561\\t21\\t0\\n0\\t102\\t64\\t46\\t78\\t40.6\\t0.496\\t21\\t0\\n2\\t115\\t64\\t22\\t0\\t30.8\\t0.421\\t21\\t0\\n8\\t151\\t78\\t32\\t210\\t42.9\\t0.516\\t36\\t1\\n4\\t184\\t78\\t39\\t277\\t37\\t0.264\\t31\\t1\\n0\\t94\\t0\\t0\\t0\\t0\\t0.256\\t25\\t0\\n1\\t181\\t64\\t30\\t180\\t34.1\\t0.328\\t38\\t1\\n0\\t135\\t94\\t46\\t145\\t40.6\\t0.284\\t26\\t0\\n1\\t95\\t82\\t25\\t180\\t35\\t0.233\\t43\\t1\\n2\\t99\\t0\\t0\\t0\\t22.2\\t0.108\\t23\\t0\\n3\\t89\\t74\\t16\\t85\\t30.4\\t0.551\\t38\\t0\\n1\\t80\\t74\\t11\\t60\\t30\\t0.527\\t22\\t0\\n2\\t139\\t75\\t0\\t0\\t25.6\\t0.167\\t29\\t0\\n1\\t90\\t68\\t8\\t0\\t24.5\\t1.138\\t36\\t0\\n0\\t141\\t0\\t0\\t0\\t42.4\\t0.205\\t29\\t1\\n12\\t140\\t85\\t33\\t0\\t37.4\\t0.244\\t41\\t0\\n5\\t147\\t75\\t0\\t0\\t29.9\\t0.434\\t28\\t0\\n1\\t97\\t70\\t15\\t0\\t18.2\\t0.147\\t21\\t0\\n6\\t107\\t88\\t0\\t0\\t36.8\\t0.727\\t31\\t0\\n0\\t189\\t104\\t25\\t0\\t34.3\\t0.435\\t41\\t1\\n2\\t83\\t66\\t23\\t50\\t32.2\\t0.497\\t22\\t0\\n4\\t117\\t64\\t27\\t120\\t33.2\\t0.23\\t24\\t0\\n8\\t108\\t70\\t0\\t0\\t30.5\\t0.955\\t33\\t1\\n4\\t117\\t62\\t12\\t0\\t29.7\\t0.38\\t30\\t1\\n0\\t180\\t78\\t63\\t14\\t59.4\\t2.42\\t25\\t1\\n1\\t100\\t72\\t12\\t70\\t25.3\\t0.658\\t28\\t0\\n0\\t95\\t80\\t45\\t92\\t36.5\\t0.33\\t26\\t0\\n0\\t104\\t64\\t37\\t64\\t33.6\\t0.51\\t22\\t1\\n0\\t120\\t74\\t18\\t63\\t30.5\\t0.285\\t26\\t0\\n1\\t82\\t64\\t13\\t95\\t21.2\\t0.415\\t23\\t0\\n2\\t134\\t70\\t0\\t0\\t28.9\\t0.542\\t23\\t1\\n0\\t91\\t68\\t32\\t210\\t39.9\\t0.381\\t25\\t0\\n2\\t119\\t0\\t0\\t0\\t19.6\\t0.832\\t72\\t0\\n2\\t100\\t54\\t28\\t105\\t37.8\\t0.498\\t24\\t0\\n14\\t175\\t62\\t30\\t0\\t33.6\\t0.212\\t38\\t1\\n1\\t135\\t54\\t0\\t0\\t26.7\\t0.687\\t62\\t0\\n5\\t86\\t68\\t28\\t71\\t30.2\\t0.364\\t24\\t0\\n10\\t148\\t84\\t48\\t237\\t37.6\\t1.001\\t51\\t1\\n9\\t134\\t74\\t33\\t60\\t25.9\\t0.46\\t81\\t0\\n9\\t120\\t72\\t22\\t56\\t20.8\\t0.733\\t48\\t0\\n1\\t71\\t62\\t0\\t0\\t21.8\\t0.416\\t26\\t0\\n8\\t74\\t70\\t40\\t49\\t35.3\\t0.705\\t39\\t0\\n5\\t88\\t78\\t30\\t0\\t27.6\\t0.258\\t37\\t0\\n10\\t115\\t98\\t0\\t0\\t24\\t1.022\\t34\\t0\\n0\\t124\\t56\\t13\\t105\\t21.8\\t0.452\\t21\\t0\\n0\\t74\\t52\\t10\\t36\\t27.8\\t0.269\\t22\\t0\\n0\\t97\\t64\\t36\\t100\\t36.8\\t0.6\\t25\\t0\\n8\\t120\\t0\\t0\\t0\\t30\\t0.183\\t38\\t1\\n6\\t154\\t78\\t41\\t140\\t46.1\\t0.571\\t27\\t0\\n1\\t144\\t82\\t40\\t0\\t41.3\\t0.607\\t28\\t0\\n0\\t137\\t70\\t38\\t0\\t33.2\\t0.17\\t22\\t0\\n0\\t119\\t66\\t27\\t0\\t38.8\\t0.259\\t22\\t0\\n7\\t136\\t90\\t0\\t0\\t29.9\\t0.21\\t50\\t0\\n4\\t114\\t64\\t0\\t0\\t28.9\\t0.126\\t24\\t0\\n0\\t137\\t84\\t27\\t0\\t27.3\\t0.231\\t59\\t0\\n2\\t105\\t80\\t45\\t191\\t33.7\\t0.711\\t29\\t1\\n7\\t114\\t76\\t17\\t110\\t23.8\\t0.466\\t31\\t0\\n8\\t126\\t74\\t38\\t75\\t25.9\\t0.162\\t39\\t0\\n4\\t132\\t86\\t31\\t0\\t28\\t0.419\\t63\\t0\\n3\\t158\\t70\\t30\\t328\\t35.5\\t0.344\\t35\\t1\\n0\\t123\\t88\\t37\\t0\\t35.2\\t0.197\\t29\\t0\\n4\\t85\\t58\\t22\\t49\\t27.8\\t0.306\\t28\\t0\\n0\\t84\\t82\\t31\\t125\\t38.2\\t0.233\\t23\\t0\\n0\\t145\\t0\\t0\\t0\\t44.2\\t0.63\\t31\\t1\\n0\\t135\\t68\\t42\\t250\\t42.3\\t0.365\\t24\\t1\\n1\\t139\\t62\\t41\\t480\\t40.7\\t0.536\\t21\\t0\\n0\\t173\\t78\\t32\\t265\\t46.5\\t1.159\\t58\\t0\\n4\\t99\\t72\\t17\\t0\\t25.6\\t0.294\\t28\\t0\\n8\\t194\\t80\\t0\\t0\\t26.1\\t0.551\\t67\\t0\\n2\\t83\\t65\\t28\\t66\\t36.8\\t0.629\\t24\\t0\\n2\\t89\\t90\\t30\\t0\\t33.5\\t0.292\\t42\\t0\\n4\\t99\\t68\\t38\\t0\\t32.8\\t0.145\\t33\\t0\\n4\\t125\\t70\\t18\\t122\\t28.9\\t1.144\\t45\\t1\\n3\\t80\\t0\\t0\\t0\\t0\\t0.174\\t22\\t0\\n6\\t166\\t74\\t0\\t0\\t26.6\\t0.304\\t66\\t0\\n5\\t110\\t68\\t0\\t0\\t26\\t0.292\\t30\\t0\\n2\\t81\\t72\\t15\\t76\\t30.1\\t0.547\\t25\\t0\\n7\\t195\\t70\\t33\\t145\\t25.1\\t0.163\\t55\\t1\\n6\\t154\\t74\\t32\\t193\\t29.3\\t0.839\\t39\\t0\\n2\\t117\\t90\\t19\\t71\\t25.2\\t0.313\\t21\\t0\\n3\\t84\\t72\\t32\\t0\\t37.2\\t0.267\\t28\\t0\\n6\\t0\\t68\\t41\\t0\\t39\\t0.727\\t41\\t1\\n7\\t94\\t64\\t25\\t79\\t33.3\\t0.738\\t41\\t0\\n3\\t96\\t78\\t39\\t0\\t37.3\\t0.238\\t40\\t0\\n10\\t75\\t82\\t0\\t0\\t33.3\\t0.263\\t38\\t0\\n0\\t180\\t90\\t26\\t90\\t36.5\\t0.314\\t35\\t1\\n1\\t130\\t60\\t23\\t170\\t28.6\\t0.692\\t21\\t0\\n2\\t84\\t50\\t23\\t76\\t30.4\\t0.968\\t21\\t0\\n8\\t120\\t78\\t0\\t0\\t25\\t0.409\\t64\\t0\\n12\\t84\\t72\\t31\\t0\\t29.7\\t0.297\\t46\\t1\\n0\\t139\\t62\\t17\\t210\\t22.1\\t0.207\\t21\\t0\\n9\\t91\\t68\\t0\\t0\\t24.2\\t0.2\\t58\\t0\\n2\\t91\\t62\\t0\\t0\\t27.3\\t0.525\\t22\\t0\\n3\\t99\\t54\\t19\\t86\\t25.6\\t0.154\\t24\\t0\\n3\\t163\\t70\\t18\\t105\\t31.6\\t0.268\\t28\\t1\\n9\\t145\\t88\\t34\\t165\\t30.3\\t0.771\\t53\\t1\\n7\\t125\\t86\\t0\\t0\\t37.6\\t0.304\\t51\\t0\\n13\\t76\\t60\\t0\\t0\\t32.8\\t0.18\\t41\\t0\\n6\\t129\\t90\\t7\\t326\\t19.6\\t0.582\\t60\\t0\\n2\\t68\\t70\\t32\\t66\\t25\\t0.187\\t25\\t0\\n3\\t124\\t80\\t33\\t130\\t33.2\\t0.305\\t26\\t0\\n6\\t114\\t0\\t0\\t0\\t0\\t0.189\\t26\\t0\\n9\\t130\\t70\\t0\\t0\\t34.2\\t0.652\\t45\\t1\\n3\\t125\\t58\\t0\\t0\\t31.6\\t0.151\\t24\\t0\\n3\\t87\\t60\\t18\\t0\\t21.8\\t0.444\\t21\\t0\\n1\\t97\\t64\\t19\\t82\\t18.2\\t0.299\\t21\\t0\\n3\\t116\\t74\\t15\\t105\\t26.3\\t0.107\\t24\\t0\\n0\\t117\\t66\\t31\\t188\\t30.8\\t0.493\\t22\\t0\\n0\\t111\\t65\\t0\\t0\\t24.6\\t0.66\\t31\\t0\\n2\\t122\\t60\\t18\\t106\\t29.8\\t0.717\\t22\\t0\\n0\\t107\\t76\\t0\\t0\\t45.3\\t0.686\\t24\\t0\\n1\\t86\\t66\\t52\\t65\\t41.3\\t0.917\\t29\\t0\\n6\\t91\\t0\\t0\\t0\\t29.8\\t0.501\\t31\\t0\\n1\\t77\\t56\\t30\\t56\\t33.3\\t1.251\\t24\\t0\\n4\\t132\\t0\\t0\\t0\\t32.9\\t0.302\\t23\\t1\\n0\\t105\\t90\\t0\\t0\\t29.6\\t0.197\\t46\\t0\\n0\\t57\\t60\\t0\\t0\\t21.7\\t0.735\\t67\\t0\\n0\\t127\\t80\\t37\\t210\\t36.3\\t0.804\\t23\\t0\\n3\\t129\\t92\\t49\\t155\\t36.4\\t0.968\\t32\\t1\\n8\\t100\\t74\\t40\\t215\\t39.4\\t0.661\\t43\\t1\\n3\\t128\\t72\\t25\\t190\\t32.4\\t0.549\\t27\\t1\\n10\\t90\\t85\\t32\\t0\\t34.9\\t0.825\\t56\\t1\\n4\\t84\\t90\\t23\\t56\\t39.5\\t0.159\\t25\\t0\\n1\\t88\\t78\\t29\\t76\\t32\\t0.365\\t29\\t0\\n8\\t186\\t90\\t35\\t225\\t34.5\\t0.423\\t37\\t1\\n5\\t187\\t76\\t27\\t207\\t43.6\\t1.034\\t53\\t1\\n4\\t131\\t68\\t21\\t166\\t33.1\\t0.16\\t28\\t0\\n1\\t164\\t82\\t43\\t67\\t32.8\\t0.341\\t50\\t0\\n4\\t189\\t110\\t31\\t0\\t28.5\\t0.68\\t37\\t0\\n1\\t116\\t70\\t28\\t0\\t27.4\\t0.204\\t21\\t0\\n3\\t84\\t68\\t30\\t106\\t31.9\\t0.591\\t25\\t0\\n6\\t114\\t88\\t0\\t0\\t27.8\\t0.247\\t66\\t0\\n1\\t88\\t62\\t24\\t44\\t29.9\\t0.422\\t23\\t0\\n1\\t84\\t64\\t23\\t115\\t36.9\\t0.471\\t28\\t0\\n7\\t124\\t70\\t33\\t215\\t25.5\\t0.161\\t37\\t0\\n1\\t97\\t70\\t40\\t0\\t38.1\\t0.218\\t30\\t0\\n8\\t110\\t76\\t0\\t0\\t27.8\\t0.237\\t58\\t0\\n11\\t103\\t68\\t40\\t0\\t46.2\\t0.126\\t42\\t0\\n11\\t85\\t74\\t0\\t0\\t30.1\\t0.3\\t35\\t0\\n6\\t125\\t76\\t0\\t0\\t33.8\\t0.121\\t54\\t1\\n0\\t198\\t66\\t32\\t274\\t41.3\\t0.502\\t28\\t1\\n1\\t87\\t68\\t34\\t77\\t37.6\\t0.401\\t24\\t0\\n6\\t99\\t60\\t19\\t54\\t26.9\\t0.497\\t32\\t0\\n0\\t91\\t80\\t0\\t0\\t32.4\\t0.601\\t27\\t0\\n2\\t95\\t54\\t14\\t88\\t26.1\\t0.748\\t22\\t0\\n1\\t99\\t72\\t30\\t18\\t38.6\\t0.412\\t21\\t0\\n6\\t92\\t62\\t32\\t126\\t32\\t0.085\\t46\\t0\\n4\\t154\\t72\\t29\\t126\\t31.3\\t0.338\\t37\\t0\\n0\\t121\\t66\\t30\\t165\\t34.3\\t0.203\\t33\\t1\\n3\\t78\\t70\\t0\\t0\\t32.5\\t0.27\\t39\\t0\\n2\\t130\\t96\\t0\\t0\\t22.6\\t0.268\\t21\\t0\\n3\\t111\\t58\\t31\\t44\\t29.5\\t0.43\\t22\\t0\\n2\\t98\\t60\\t17\\t120\\t34.7\\t0.198\\t22\\t0\\n1\\t143\\t86\\t30\\t330\\t30.1\\t0.892\\t23\\t0\\n1\\t119\\t44\\t47\\t63\\t35.5\\t0.28\\t25\\t0\\n6\\t108\\t44\\t20\\t130\\t24\\t0.813\\t35\\t0\\n2\\t118\\t80\\t0\\t0\\t42.9\\t0.693\\t21\\t1\\n10\\t133\\t68\\t0\\t0\\t27\\t0.245\\t36\\t0\\n2\\t197\\t70\\t99\\t0\\t34.7\\t0.575\\t62\\t1\\n0\\t151\\t90\\t46\\t0\\t42.1\\t0.371\\t21\\t1\\n6\\t109\\t60\\t27\\t0\\t25\\t0.206\\t27\\t0\\n12\\t121\\t78\\t17\\t0\\t26.5\\t0.259\\t62\\t0\\n8\\t100\\t76\\t0\\t0\\t38.7\\t0.19\\t42\\t0\\n8\\t124\\t76\\t24\\t600\\t28.7\\t0.687\\t52\\t1\\n1\\t93\\t56\\t11\\t0\\t22.5\\t0.417\\t22\\t0\\n8\\t143\\t66\\t0\\t0\\t34.9\\t0.129\\t41\\t1\\n6\\t103\\t66\\t0\\t0\\t24.3\\t0.249\\t29\\t0\\n3\\t176\\t86\\t27\\t156\\t33.3\\t1.154\\t52\\t1\\n0\\t73\\t0\\t0\\t0\\t21.1\\t0.342\\t25\\t0\\n11\\t111\\t84\\t40\\t0\\t46.8\\t0.925\\t45\\t1\\n2\\t112\\t78\\t50\\t140\\t39.4\\t0.175\\t24\\t0\\n3\\t132\\t80\\t0\\t0\\t34.4\\t0.402\\t44\\t1\\n2\\t82\\t52\\t22\\t115\\t28.5\\t1.699\\t25\\t0\\n6\\t123\\t72\\t45\\t230\\t33.6\\t0.733\\t34\\t0\\n0\\t188\\t82\\t14\\t185\\t32\\t0.682\\t22\\t1\\n0\\t67\\t76\\t0\\t0\\t45.3\\t0.194\\t46\\t0\\n1\\t89\\t24\\t19\\t25\\t27.8\\t0.559\\t21\\t0\\n1\\t173\\t74\\t0\\t0\\t36.8\\t0.088\\t38\\t1\\n1\\t109\\t38\\t18\\t120\\t23.1\\t0.407\\t26\\t0\\n1\\t108\\t88\\t19\\t0\\t27.1\\t0.4\\t24\\t0\\n6\\t96\\t0\\t0\\t0\\t23.7\\t0.19\\t28\\t0\\n1\\t124\\t74\\t36\\t0\\t27.8\\t0.1\\t30\\t0\\n7\\t150\\t78\\t29\\t126\\t35.2\\t0.692\\t54\\t1\\n4\\t183\\t0\\t0\\t0\\t28.4\\t0.212\\t36\\t1\\n1\\t124\\t60\\t32\\t0\\t35.8\\t0.514\\t21\\t0\\n1\\t181\\t78\\t42\\t293\\t40\\t1.258\\t22\\t1\\n1\\t92\\t62\\t25\\t41\\t19.5\\t0.482\\t25\\t0\\n0\\t152\\t82\\t39\\t272\\t41.5\\t0.27\\t27\\t0\\n1\\t111\\t62\\t13\\t182\\t24\\t0.138\\t23\\t0\\n3\\t106\\t54\\t21\\t158\\t30.9\\t0.292\\t24\\t0\\n3\\t174\\t58\\t22\\t194\\t32.9\\t0.593\\t36\\t1\\n7\\t168\\t88\\t42\\t321\\t38.2\\t0.787\\t40\\t1\\n6\\t105\\t80\\t28\\t0\\t32.5\\t0.878\\t26\\t0\\n11\\t138\\t74\\t26\\t144\\t36.1\\t0.557\\t50\\t1\\n3\\t106\\t72\\t0\\t0\\t25.8\\t0.207\\t27\\t0\\n6\\t117\\t96\\t0\\t0\\t28.7\\t0.157\\t30\\t0\\n2\\t68\\t62\\t13\\t15\\t20.1\\t0.257\\t23\\t0\\n9\\t112\\t82\\t24\\t0\\t28.2\\t1.282\\t50\\t1\\n0\\t119\\t0\\t0\\t0\\t32.4\\t0.141\\t24\\t1\\n2\\t112\\t86\\t42\\t160\\t38.4\\t0.246\\t28\\t0\\n2\\t92\\t76\\t20\\t0\\t24.2\\t1.698\\t28\\t0\\n6\\t183\\t94\\t0\\t0\\t40.8\\t1.461\\t45\\t0\\n0\\t94\\t70\\t27\\t115\\t43.5\\t0.347\\t21\\t0\\n2\\t108\\t64\\t0\\t0\\t30.8\\t0.158\\t21\\t0\\n4\\t90\\t88\\t47\\t54\\t37.7\\t0.362\\t29\\t0\\n0\\t125\\t68\\t0\\t0\\t24.7\\t0.206\\t21\\t0\\n0\\t132\\t78\\t0\\t0\\t32.4\\t0.393\\t21\\t0\\n5\\t128\\t80\\t0\\t0\\t34.6\\t0.144\\t45\\t0\\n4\\t94\\t65\\t22\\t0\\t24.7\\t0.148\\t21\\t0\\n7\\t114\\t64\\t0\\t0\\t27.4\\t0.732\\t34\\t1\\n0\\t102\\t78\\t40\\t90\\t34.5\\t0.238\\t24\\t0\\n2\\t111\\t60\\t0\\t0\\t26.2\\t0.343\\t23\\t0\\n1\\t128\\t82\\t17\\t183\\t27.5\\t0.115\\t22\\t0\\n10\\t92\\t62\\t0\\t0\\t25.9\\t0.167\\t31\\t0\\n13\\t104\\t72\\t0\\t0\\t31.2\\t0.465\\t38\\t1\\n5\\t104\\t74\\t0\\t0\\t28.8\\t0.153\\t48\\t0\\n2\\t94\\t76\\t18\\t66\\t31.6\\t0.649\\t23\\t0\\n7\\t97\\t76\\t32\\t91\\t40.9\\t0.871\\t32\\t1\\n1\\t100\\t74\\t12\\t46\\t19.5\\t0.149\\t28\\t0\\n0\\t102\\t86\\t17\\t105\\t29.3\\t0.695\\t27\\t0\\n4\\t128\\t70\\t0\\t0\\t34.3\\t0.303\\t24\\t0\\n6\\t147\\t80\\t0\\t0\\t29.5\\t0.178\\t50\\t1\\n4\\t90\\t0\\t0\\t0\\t28\\t0.61\\t31\\t0\\n3\\t103\\t72\\t30\\t152\\t27.6\\t0.73\\t27\\t0\\n2\\t157\\t74\\t35\\t440\\t39.4\\t0.134\\t30\\t0\\n1\\t167\\t74\\t17\\t144\\t23.4\\t0.447\\t33\\t1\\n0\\t179\\t50\\t36\\t159\\t37.8\\t0.455\\t22\\t1\\n11\\t136\\t84\\t35\\t130\\t28.3\\t0.26\\t42\\t1\\n0\\t107\\t60\\t25\\t0\\t26.4\\t0.133\\t23\\t0\\n1\\t91\\t54\\t25\\t100\\t25.2\\t0.234\\t23\\t0\\n1\\t117\\t60\\t23\\t106\\t33.8\\t0.466\\t27\\t0\\n5\\t123\\t74\\t40\\t77\\t34.1\\t0.269\\t28\\t0\\n2\\t120\\t54\\t0\\t0\\t26.8\\t0.455\\t27\\t0\\n1\\t106\\t70\\t28\\t135\\t34.2\\t0.142\\t22\\t0\\n2\\t155\\t52\\t27\\t540\\t38.7\\t0.24\\t25\\t1\\n2\\t101\\t58\\t35\\t90\\t21.8\\t0.155\\t22\\t0\\n1\\t120\\t80\\t48\\t200\\t38.9\\t1.162\\t41\\t0\\n11\\t127\\t106\\t0\\t0\\t39\\t0.19\\t51\\t0\\n3\\t80\\t82\\t31\\t70\\t34.2\\t1.292\\t27\\t1\\n10\\t162\\t84\\t0\\t0\\t27.7\\t0.182\\t54\\t0\\n1\\t199\\t76\\t43\\t0\\t42.9\\t1.394\\t22\\t1\\n8\\t167\\t106\\t46\\t231\\t37.6\\t0.165\\t43\\t1\\n9\\t145\\t80\\t46\\t130\\t37.9\\t0.637\\t40\\t1\\n6\\t115\\t60\\t39\\t0\\t33.7\\t0.245\\t40\\t1\\n1\\t112\\t80\\t45\\t132\\t34.8\\t0.217\\t24\\t0\\n4\\t145\\t82\\t18\\t0\\t32.5\\t0.235\\t70\\t1\\n10\\t111\\t70\\t27\\t0\\t27.5\\t0.141\\t40\\t1\\n6\\t98\\t58\\t33\\t190\\t34\\t0.43\\t43\\t0\\n9\\t154\\t78\\t30\\t100\\t30.9\\t0.164\\t45\\t0\\n6\\t165\\t68\\t26\\t168\\t33.6\\t0.631\\t49\\t0\\n1\\t99\\t58\\t10\\t0\\t25.4\\t0.551\\t21\\t0\\n10\\t68\\t106\\t23\\t49\\t35.5\\t0.285\\t47\\t0\\n3\\t123\\t100\\t35\\t240\\t57.3\\t0.88\\t22\\t0\\n8\\t91\\t82\\t0\\t0\\t35.6\\t0.587\\t68\\t0\\n6\\t195\\t70\\t0\\t0\\t30.9\\t0.328\\t31\\t1\\n9\\t156\\t86\\t0\\t0\\t24.8\\t0.23\\t53\\t1\\n0\\t93\\t60\\t0\\t0\\t35.3\\t0.263\\t25\\t0\\n3\\t121\\t52\\t0\\t0\\t36\\t0.127\\t25\\t1\\n2\\t101\\t58\\t17\\t265\\t24.2\\t0.614\\t23\\t0\\n2\\t56\\t56\\t28\\t45\\t24.2\\t0.332\\t22\\t0\\n0\\t162\\t76\\t36\\t0\\t49.6\\t0.364\\t26\\t1\\n0\\t95\\t64\\t39\\t105\\t44.6\\t0.366\\t22\\t0\\n4\\t125\\t80\\t0\\t0\\t32.3\\t0.536\\t27\\t1\\n5\\t136\\t82\\t0\\t0\\t0\\t0.64\\t69\\t0\\n2\\t129\\t74\\t26\\t205\\t33.2\\t0.591\\t25\\t0\\n3\\t130\\t64\\t0\\t0\\t23.1\\t0.314\\t22\\t0\\n1\\t107\\t50\\t19\\t0\\t28.3\\t0.181\\t29\\t0\\n1\\t140\\t74\\t26\\t180\\t24.1\\t0.828\\t23\\t0\\n1\\t144\\t82\\t46\\t180\\t46.1\\t0.335\\t46\\t1\\n8\\t107\\t80\\t0\\t0\\t24.6\\t0.856\\t34\\t0\\n13\\t158\\t114\\t0\\t0\\t42.3\\t0.257\\t44\\t1\\n2\\t121\\t70\\t32\\t95\\t39.1\\t0.886\\t23\\t0\\n7\\t129\\t68\\t49\\t125\\t38.5\\t0.439\\t43\\t1\\n2\\t90\\t60\\t0\\t0\\t23.5\\t0.191\\t25\\t0\\n7\\t142\\t90\\t24\\t480\\t30.4\\t0.128\\t43\\t1\\n3\\t169\\t74\\t19\\t125\\t29.9\\t0.268\\t31\\t1\\n0\\t99\\t0\\t0\\t0\\t25\\t0.253\\t22\\t0\\n4\\t127\\t88\\t11\\t155\\t34.5\\t0.598\\t28\\t0\\n4\\t118\\t70\\t0\\t0\\t44.5\\t0.904\\t26\\t0\\n2\\t122\\t76\\t27\\t200\\t35.9\\t0.483\\t26\\t0\\n6\\t125\\t78\\t31\\t0\\t27.6\\t0.565\\t49\\t1\\n1\\t168\\t88\\t29\\t0\\t35\\t0.905\\t52\\t1\\n2\\t129\\t0\\t0\\t0\\t38.5\\t0.304\\t41\\t0\\n4\\t110\\t76\\t20\\t100\\t28.4\\t0.118\\t27\\t0\\n6\\t80\\t80\\t36\\t0\\t39.8\\t0.177\\t28\\t0\\n10\\t115\\t0\\t0\\t0\\t0\\t0.261\\t30\\t1\\n2\\t127\\t46\\t21\\t335\\t34.4\\t0.176\\t22\\t0\\n9\\t164\\t78\\t0\\t0\\t32.8\\t0.148\\t45\\t1\\n2\\t93\\t64\\t32\\t160\\t38\\t0.674\\t23\\t1\\n3\\t158\\t64\\t13\\t387\\t31.2\\t0.295\\t24\\t0\\n5\\t126\\t78\\t27\\t22\\t29.6\\t0.439\\t40\\t0\\n10\\t129\\t62\\t36\\t0\\t41.2\\t0.441\\t38\\t1\\n0\\t134\\t58\\t20\\t291\\t26.4\\t0.352\\t21\\t0\\n3\\t102\\t74\\t0\\t0\\t29.5\\t0.121\\t32\\t0\\n7\\t187\\t50\\t33\\t392\\t33.9\\t0.826\\t34\\t1\\n3\\t173\\t78\\t39\\t185\\t33.8\\t0.97\\t31\\t1\\n10\\t94\\t72\\t18\\t0\\t23.1\\t0.595\\t56\\t0\\n1\\t108\\t60\\t46\\t178\\t35.5\\t0.415\\t24\\t0\\n5\\t97\\t76\\t27\\t0\\t35.6\\t0.378\\t52\\t1\\n4\\t83\\t86\\t19\\t0\\t29.3\\t0.317\\t34\\t0\\n1\\t114\\t66\\t36\\t200\\t38.1\\t0.289\\t21\\t0\\n1\\t149\\t68\\t29\\t127\\t29.3\\t0.349\\t42\\t1\\n5\\t117\\t86\\t30\\t105\\t39.1\\t0.251\\t42\\t0\\n1\\t111\\t94\\t0\\t0\\t32.8\\t0.265\\t45\\t0\\n4\\t112\\t78\\t40\\t0\\t39.4\\t0.236\\t38\\t0\\n1\\t116\\t78\\t29\\t180\\t36.1\\t0.496\\t25\\t0\\n0\\t141\\t84\\t26\\t0\\t32.4\\t0.433\\t22\\t0\\n2\\t175\\t88\\t0\\t0\\t22.9\\t0.326\\t22\\t0\\n2\\t92\\t52\\t0\\t0\\t30.1\\t0.141\\t22\\t0\\n3\\t130\\t78\\t23\\t79\\t28.4\\t0.323\\t34\\t1\\n8\\t120\\t86\\t0\\t0\\t28.4\\t0.259\\t22\\t1\\n2\\t174\\t88\\t37\\t120\\t44.5\\t0.646\\t24\\t1\\n2\\t106\\t56\\t27\\t165\\t29\\t0.426\\t22\\t0\\n2\\t105\\t75\\t0\\t0\\t23.3\\t0.56\\t53\\t0\\n4\\t95\\t60\\t32\\t0\\t35.4\\t0.284\\t28\\t0\\n0\\t126\\t86\\t27\\t120\\t27.4\\t0.515\\t21\\t0\\n8\\t65\\t72\\t23\\t0\\t32\\t0.6\\t42\\t0\\n2\\t99\\t60\\t17\\t160\\t36.6\\t0.453\\t21\\t0\\n1\\t102\\t74\\t0\\t0\\t39.5\\t0.293\\t42\\t1\\n11\\t120\\t80\\t37\\t150\\t42.3\\t0.785\\t48\\t1\\n3\\t102\\t44\\t20\\t94\\t30.8\\t0.4\\t26\\t0\\n1\\t109\\t58\\t18\\t116\\t28.5\\t0.219\\t22\\t0\\n9\\t140\\t94\\t0\\t0\\t32.7\\t0.734\\t45\\t1\\n13\\t153\\t88\\t37\\t140\\t40.6\\t1.174\\t39\\t0\\n12\\t100\\t84\\t33\\t105\\t30\\t0.488\\t46\\t0\\n1\\t147\\t94\\t41\\t0\\t49.3\\t0.358\\t27\\t1\\n1\\t81\\t74\\t41\\t57\\t46.3\\t1.096\\t32\\t0\\n3\\t187\\t70\\t22\\t200\\t36.4\\t0.408\\t36\\t1\\n6\\t162\\t62\\t0\\t0\\t24.3\\t0.178\\t50\\t1\\n4\\t136\\t70\\t0\\t0\\t31.2\\t1.182\\t22\\t1\\n1\\t121\\t78\\t39\\t74\\t39\\t0.261\\t28\\t0\\n3\\t108\\t62\\t24\\t0\\t26\\t0.223\\t25\\t0\\n0\\t181\\t88\\t44\\t510\\t43.3\\t0.222\\t26\\t1\\n8\\t154\\t78\\t32\\t0\\t32.4\\t0.443\\t45\\t1\\n1\\t128\\t88\\t39\\t110\\t36.5\\t1.057\\t37\\t1\\n7\\t137\\t90\\t41\\t0\\t32\\t0.391\\t39\\t0\\n0\\t123\\t72\\t0\\t0\\t36.3\\t0.258\\t52\\t1\\n1\\t106\\t76\\t0\\t0\\t37.5\\t0.197\\t26\\t0\\n6\\t190\\t92\\t0\\t0\\t35.5\\t0.278\\t66\\t1\\n2\\t88\\t58\\t26\\t16\\t28.4\\t0.766\\t22\\t0\\n9\\t170\\t74\\t31\\t0\\t44\\t0.403\\t43\\t1\\n9\\t89\\t62\\t0\\t0\\t22.5\\t0.142\\t33\\t0\\n10\\t101\\t76\\t48\\t180\\t32.9\\t0.171\\t63\\t0\\n2\\t122\\t70\\t27\\t0\\t36.8\\t0.34\\t27\\t0\\n5\\t121\\t72\\t23\\t112\\t26.2\\t0.245\\t30\\t0\\n1\\t126\\t60\\t0\\t0\\t30.1\\t0.349\\t47\\t1\\n1\\t93\\t70\\t31\\t0\\t30.4\\t0.315\\t23\\t0\\n'"
      ]
     },
     "execution_count": 358,
     "metadata": {},
     "output_type": "execute_result"
    }
   ],
   "source": [
    "f=open(\"Diabetes.txt\",'r')\n",
    "f.read()"
   ]
  },
  {
   "cell_type": "markdown",
   "metadata": {},
   "source": [
    "# Error handling"
   ]
  },
  {
   "cell_type": "code",
   "execution_count": 373,
   "metadata": {},
   "outputs": [
    {
     "name": "stdout",
     "output_type": "stream",
     "text": [
      "Pls check the file\n"
     ]
    }
   ],
   "source": [
    "try:\n",
    "    f=open(\"error.dat\",'r')\n",
    "except Exception:\n",
    "    print(\"Pls check the file\")"
   ]
  },
  {
   "cell_type": "markdown",
   "metadata": {},
   "source": [
    "# Generators"
   ]
  },
  {
   "cell_type": "code",
   "execution_count": 380,
   "metadata": {},
   "outputs": [],
   "source": [
    "def square(inp):\n",
    "    for i in inp:\n",
    "        yield(i*i)"
   ]
  },
  {
   "cell_type": "code",
   "execution_count": 392,
   "metadata": {},
   "outputs": [
    {
     "name": "stdout",
     "output_type": "stream",
     "text": [
      "1\n",
      "4\n",
      "9\n",
      "16\n",
      "0.00017789998673833907\n"
     ]
    }
   ],
   "source": [
    "t1=time.perf_counter()\n",
    "for i in square(lst):\n",
    "    print(i)\n",
    "t2=time.perf_counter()\n",
    "print(t2-t1)"
   ]
  },
  {
   "cell_type": "markdown",
   "metadata": {},
   "source": [
    "# Higher order function & closure"
   ]
  },
  {
   "cell_type": "code",
   "execution_count": 411,
   "metadata": {},
   "outputs": [],
   "source": [
    "def inp(lst,target):\n",
    "    def check():\n",
    "        for index,value in enumerate(lst):\n",
    "            if value==target:\n",
    "                return index\n",
    "    return check() ## Need to return back the function inorder to satisfy the closure property"
   ]
  },
  {
   "cell_type": "code",
   "execution_count": 413,
   "metadata": {},
   "outputs": [
    {
     "name": "stdout",
     "output_type": "stream",
     "text": [
      "3\n"
     ]
    }
   ],
   "source": [
    "f=inp(nums,4)\n",
    "print(f)"
   ]
  },
  {
   "cell_type": "markdown",
   "metadata": {},
   "source": [
    "# OOPS: Class variables vs instance variables"
   ]
  },
  {
   "cell_type": "code",
   "execution_count": 54,
   "metadata": {},
   "outputs": [],
   "source": [
    "class student_info():\n",
    "    total_marks=100 # Class variable\n",
    "    marks_scored=0 # Instance variable\n",
    "\n",
    "    def __init__(self,name,age,subject,phone):\n",
    "        self.name=name\n",
    "        self.age=age\n",
    "        self.subject=subject\n",
    "        self.phone=phone\n",
    "        \n",
    "        student_info.total_marks+=20 # Class variable using class name\n",
    "        \n",
    "    def above_30(self):\n",
    "        if self.age>30:\n",
    "            print(\"Student's age is above 30\")\n",
    "        else:\n",
    "            print(\"Student's age is below 30\")\n",
    "            \n",
    "    def score(self):\n",
    "        print(\"Marks scored by {} is {}\".format(self.name,self.marks_scored+self.age)) # instance variable using self"
   ]
  },
  {
   "cell_type": "code",
   "execution_count": 55,
   "metadata": {},
   "outputs": [],
   "source": [
    "## Initialize instance of class\n",
    "Lohith_info=student_info(\"Lohith\",31,\"Chemistry\",9898989898)\n",
    "Madhu_info=student_info(\"Madhu\",28,\"Biology\",9898989898)"
   ]
  },
  {
   "cell_type": "code",
   "execution_count": 56,
   "metadata": {},
   "outputs": [
    {
     "name": "stdout",
     "output_type": "stream",
     "text": [
      "Student's age is above 30\n",
      "Student's age is below 30\n"
     ]
    }
   ],
   "source": [
    "## Call method\n",
    "Lohith_info.above_30()\n",
    "Madhu_info.above_30()"
   ]
  },
  {
   "cell_type": "code",
   "execution_count": 57,
   "metadata": {},
   "outputs": [
    {
     "name": "stdout",
     "output_type": "stream",
     "text": [
      "Marks scored by Lohith is 31\n",
      "Marks scored by Madhu is 28\n"
     ]
    }
   ],
   "source": [
    "## Call method using instance variable\n",
    "Lohith_info.score()\n",
    "Madhu_info.score()"
   ]
  },
  {
   "cell_type": "code",
   "execution_count": 58,
   "metadata": {},
   "outputs": [
    {
     "name": "stdout",
     "output_type": "stream",
     "text": [
      "140\n",
      "140\n"
     ]
    }
   ],
   "source": [
    "## Call method using class variable\n",
    "print(Lohith_info.total_marks)\n",
    "print(Madhu_info.total_marks)"
   ]
  },
  {
   "cell_type": "markdown",
   "metadata": {},
   "source": [
    "# OOPS: Regular method vs static method"
   ]
  },
  {
   "cell_type": "code",
   "execution_count": 263,
   "metadata": {},
   "outputs": [],
   "source": [
    "class Employee():\n",
    "    num_of_emps=0\n",
    "    raise_amt=1.04\n",
    "    def __init__(self,first,last,pay):\n",
    "        self.first=first\n",
    "        self.last=last\n",
    "        self.email=first+\".\"+last+\"@gmail.com\"\n",
    "        self.pay=pay\n",
    "        \n",
    "    def fullname(self):\n",
    "        print(\"{}{} is the full name\".format(self.first,self.last))\n",
    "        \n",
    "    def apply_raise(self):\n",
    "        self.pay=int(self.pay*self.raise_amt)\n",
    "        \n",
    "    @classmethod\n",
    "    def set_raise_amt(cls,amount): ## cls is class argument insetead of instance self\n",
    "        cls.raise_amt=amount"
   ]
  },
  {
   "cell_type": "code",
   "execution_count": 264,
   "metadata": {},
   "outputs": [],
   "source": [
    "emp_1=Employee(\"Lohith\",\"GN\",50000)\n",
    "emp_2=Employee(\"Madhu\",\"GN\",60000)"
   ]
  },
  {
   "cell_type": "code",
   "execution_count": 266,
   "metadata": {},
   "outputs": [
    {
     "name": "stdout",
     "output_type": "stream",
     "text": [
      "1.05\n",
      "1.05\n",
      "1.05\n"
     ]
    }
   ],
   "source": [
    "Employee.set_raise_amt(1.05)\n",
    "print(Employee.raise_amt)\n",
    "print(emp_1.raise_amt)\n",
    "print(emp_2.raise_amt)"
   ]
  },
  {
   "cell_type": "code",
   "execution_count": 267,
   "metadata": {},
   "outputs": [],
   "source": [
    "emp_str_1=\"John-Doe-70000\"\n",
    "emp_str_2=\"Steve-Smith-80000\"\n",
    "emp_str_3=\"Nick-Joe-90000\""
   ]
  },
  {
   "cell_type": "code",
   "execution_count": 290,
   "metadata": {},
   "outputs": [],
   "source": [
    "class Parse():\n",
    "    def __init__(self,str_inp):\n",
    "        self.str_inp=str_inp\n",
    "        \n",
    "    def str_op(self):\n",
    "        self.first,self.last,self.pay=self.str_inp.split(\"-\")\n",
    "        print(self.first+\".\"+self.last+\"@email.com\")\n",
    "        print(self.pay)"
   ]
  },
  {
   "cell_type": "code",
   "execution_count": 293,
   "metadata": {},
   "outputs": [],
   "source": [
    "parse=Parse(emp_str_1)"
   ]
  },
  {
   "cell_type": "code",
   "execution_count": 294,
   "metadata": {},
   "outputs": [
    {
     "name": "stdout",
     "output_type": "stream",
     "text": [
      "John.Doe@email.com\n",
      "70000\n"
     ]
    }
   ],
   "source": [
    "parse.str_op()"
   ]
  },
  {
   "cell_type": "markdown",
   "metadata": {},
   "source": [
    "# OOPS __add__ helps to add multiple classes"
   ]
  },
  {
   "cell_type": "code",
   "execution_count": 1,
   "metadata": {},
   "outputs": [],
   "source": [
    "class colortry(object):\n",
    "    def __init__(self,r,g,b):\n",
    "        self.r=r\n",
    "        self.g=g\n",
    "        self.b=b\n",
    "        \n",
    "    def __repr__(self):\n",
    "        str=\"{} {} {}\".format(new_r,new_g,new_b)\n",
    "        return str\n",
    "    \n",
    "    def __add__(self,other):\n",
    "        new_r=self.r+other.r\n",
    "        new_g=self.g+other.g\n",
    "        new_b=self.b+other.b\n",
    "        return new_r,new_g,new_b"
   ]
  },
  {
   "cell_type": "code",
   "execution_count": 6,
   "metadata": {},
   "outputs": [],
   "source": [
    "cls1=colortry(20,20,20)\n",
    "cls2=colortry(20,20,30)"
   ]
  },
  {
   "cell_type": "code",
   "execution_count": 7,
   "metadata": {},
   "outputs": [
    {
     "data": {
      "text/plain": [
       "(40, 40, 50)"
      ]
     },
     "execution_count": 7,
     "metadata": {},
     "output_type": "execute_result"
    }
   ],
   "source": [
    "cls1+cls2"
   ]
  },
  {
   "cell_type": "code",
   "execution_count": null,
   "metadata": {},
   "outputs": [],
   "source": []
  },
  {
   "cell_type": "code",
   "execution_count": null,
   "metadata": {},
   "outputs": [],
   "source": []
  },
  {
   "cell_type": "code",
   "execution_count": null,
   "metadata": {},
   "outputs": [],
   "source": []
  },
  {
   "cell_type": "code",
   "execution_count": 242,
   "metadata": {},
   "outputs": [],
   "source": []
  },
  {
   "cell_type": "code",
   "execution_count": null,
   "metadata": {},
   "outputs": [],
   "source": []
  },
  {
   "cell_type": "code",
   "execution_count": 175,
   "metadata": {},
   "outputs": [],
   "source": []
  },
  {
   "cell_type": "code",
   "execution_count": null,
   "metadata": {},
   "outputs": [],
   "source": []
  },
  {
   "cell_type": "code",
   "execution_count": 178,
   "metadata": {},
   "outputs": [],
   "source": []
  },
  {
   "cell_type": "code",
   "execution_count": null,
   "metadata": {},
   "outputs": [],
   "source": []
  },
  {
   "cell_type": "code",
   "execution_count": null,
   "metadata": {},
   "outputs": [],
   "source": []
  },
  {
   "cell_type": "code",
   "execution_count": null,
   "metadata": {},
   "outputs": [],
   "source": []
  },
  {
   "cell_type": "code",
   "execution_count": 163,
   "metadata": {},
   "outputs": [],
   "source": []
  },
  {
   "cell_type": "code",
   "execution_count": 164,
   "metadata": {},
   "outputs": [],
   "source": []
  },
  {
   "cell_type": "code",
   "execution_count": null,
   "metadata": {},
   "outputs": [],
   "source": []
  },
  {
   "cell_type": "code",
   "execution_count": null,
   "metadata": {},
   "outputs": [],
   "source": []
  },
  {
   "cell_type": "code",
   "execution_count": null,
   "metadata": {},
   "outputs": [],
   "source": []
  },
  {
   "cell_type": "code",
   "execution_count": null,
   "metadata": {},
   "outputs": [],
   "source": []
  },
  {
   "cell_type": "code",
   "execution_count": null,
   "metadata": {},
   "outputs": [],
   "source": []
  }
 ],
 "metadata": {
  "kernelspec": {
   "display_name": "Python 3",
   "language": "python",
   "name": "python3"
  },
  "language_info": {
   "codemirror_mode": {
    "name": "ipython",
    "version": 3
   },
   "file_extension": ".py",
   "mimetype": "text/x-python",
   "name": "python",
   "nbconvert_exporter": "python",
   "pygments_lexer": "ipython3",
   "version": "3.7.7"
  }
 },
 "nbformat": 4,
 "nbformat_minor": 4
}
